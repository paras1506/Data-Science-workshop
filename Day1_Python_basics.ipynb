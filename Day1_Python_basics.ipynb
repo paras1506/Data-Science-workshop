{
 "cells": [
  {
   "cell_type": "code",
   "execution_count": 2,
   "id": "b78c1246",
   "metadata": {},
   "outputs": [
    {
     "name": "stdout",
     "output_type": "stream",
     "text": [
      "hello word\n"
     ]
    }
   ],
   "source": [
    "print('hello word')\n",
    "\n",
    "#shift + enter  = to run \n",
    "#click outside and press B = to create new cell\n",
    "#click outside and press x = to delete\n",
    "#click outside and press "
   ]
  },
  {
   "cell_type": "code",
   "execution_count": 3,
   "id": "dc731e58",
   "metadata": {},
   "outputs": [
    {
     "data": {
      "text/plain": [
       "int"
      ]
     },
     "execution_count": 3,
     "metadata": {},
     "output_type": "execute_result"
    }
   ],
   "source": [
    "num = 50\n",
    "type(num)"
   ]
  },
  {
   "cell_type": "code",
   "execution_count": 4,
   "id": "b1346567",
   "metadata": {},
   "outputs": [
    {
     "data": {
      "text/plain": [
       "float"
      ]
     },
     "execution_count": 4,
     "metadata": {},
     "output_type": "execute_result"
    }
   ],
   "source": [
    "num = 5.6\n",
    "type(num)\n"
   ]
  },
  {
   "cell_type": "code",
   "execution_count": 6,
   "id": "e8823edb",
   "metadata": {},
   "outputs": [
    {
     "data": {
      "text/plain": [
       "int"
      ]
     },
     "execution_count": 6,
     "metadata": {},
     "output_type": "execute_result"
    }
   ],
   "source": [
    "num = \"paras\"\n",
    "type(num)\n",
    "\n",
    "num = 5\n",
    "type(num)"
   ]
  },
  {
   "cell_type": "markdown",
   "id": "3027b2f4",
   "metadata": {},
   "source": [
    "num = 45 + 60\n",
    "num"
   ]
  },
  {
   "cell_type": "code",
   "execution_count": 7,
   "id": "438e311c",
   "metadata": {},
   "outputs": [
    {
     "data": {
      "text/plain": [
       "105"
      ]
     },
     "execution_count": 7,
     "metadata": {},
     "output_type": "execute_result"
    }
   ],
   "source": [
    "num = 45 + 60\n",
    "num"
   ]
  },
  {
   "cell_type": "code",
   "execution_count": 8,
   "id": "51c4aa33",
   "metadata": {},
   "outputs": [
    {
     "data": {
      "text/plain": [
       "560009492579850347023767205571277493283253166409626007045570028743000407334437497175020852972724496041127003131939250479716800565774705820805450952843705418097382801888598011444490099589344681435017713938017671903114627902702785727143298984794699326661536550146543519537684430805842685830423380420658315889019466290603701000666472609358040872056072298461580004664654506223411020579302307203320861987884713187869459583955554626790665993077931207949440431830440586688823678116918083837037602778653444600576308331015247708998672980791719252332287786245835173061228544089300162922086876722061577489271628058257521"
      ]
     },
     "execution_count": 8,
     "metadata": {},
     "output_type": "execute_result"
    }
   ],
   "source": [
    "num = 895734587 ** 68\n",
    "num\n",
    "# no limit on integer size"
   ]
  },
  {
   "cell_type": "code",
   "execution_count": 9,
   "id": "2a40d1bd",
   "metadata": {},
   "outputs": [
    {
     "data": {
      "text/plain": [
       "10000.0"
      ]
     },
     "execution_count": 9,
     "metadata": {},
     "output_type": "execute_result"
    }
   ],
   "source": [
    "y = 10e3\n",
    "y"
   ]
  },
  {
   "cell_type": "markdown",
   "id": "3c73b434",
   "metadata": {},
   "source": [
    "# print\n"
   ]
  },
  {
   "cell_type": "markdown",
   "id": "0326d816",
   "metadata": {},
   "source": [
    "## Esc + M to make a cell markdown"
   ]
  },
  {
   "cell_type": "code",
   "execution_count": 11,
   "id": "18686965",
   "metadata": {},
   "outputs": [
    {
     "name": "stdout",
     "output_type": "stream",
     "text": [
      "welcome to programing world\n"
     ]
    }
   ],
   "source": [
    "print('welcome to programing world')"
   ]
  },
  {
   "cell_type": "code",
   "execution_count": 14,
   "id": "54320bf8",
   "metadata": {},
   "outputs": [],
   "source": [
    "#multiple assignmet\n",
    "num1, num2,num3 = 12, 15, 'paras'"
   ]
  },
  {
   "cell_type": "code",
   "execution_count": 15,
   "id": "1332bb87",
   "metadata": {},
   "outputs": [
    {
     "data": {
      "text/plain": [
       "'paras'"
      ]
     },
     "execution_count": 15,
     "metadata": {},
     "output_type": "execute_result"
    }
   ],
   "source": [
    "num3"
   ]
  },
  {
   "cell_type": "code",
   "execution_count": 16,
   "id": "60a8de81",
   "metadata": {},
   "outputs": [
    {
     "name": "stdout",
     "output_type": "stream",
     "text": [
      "68\n",
      "23\n"
     ]
    }
   ],
   "source": [
    "#multiline\n",
    "num1 = 23; num2= 45; print(num1+num2); print(num1)"
   ]
  },
  {
   "cell_type": "markdown",
   "id": "19a25f88",
   "metadata": {},
   "source": [
    "### string operation"
   ]
  },
  {
   "cell_type": "code",
   "execution_count": 17,
   "id": "86828812",
   "metadata": {},
   "outputs": [
    {
     "data": {
      "text/plain": [
       "'paras'"
      ]
     },
     "execution_count": 17,
     "metadata": {},
     "output_type": "execute_result"
    }
   ],
   "source": [
    "name = 'Paras'\n",
    "name.lower()"
   ]
  },
  {
   "cell_type": "code",
   "execution_count": 18,
   "id": "c23481d1",
   "metadata": {},
   "outputs": [
    {
     "name": "stdout",
     "output_type": "stream",
     "text": [
      "PARAS\n"
     ]
    }
   ],
   "source": [
    "x = name.upper()\n",
    "print(x)"
   ]
  },
  {
   "cell_type": "code",
   "execution_count": 19,
   "id": "e6abef72",
   "metadata": {},
   "outputs": [
    {
     "data": {
      "text/plain": [
       "'pARAS'"
      ]
     },
     "execution_count": 19,
     "metadata": {},
     "output_type": "execute_result"
    }
   ],
   "source": [
    "name.swapcase()"
   ]
  },
  {
   "cell_type": "code",
   "execution_count": 20,
   "id": "b71ef8fa",
   "metadata": {},
   "outputs": [
    {
     "data": {
      "text/plain": [
       "5"
      ]
     },
     "execution_count": 20,
     "metadata": {},
     "output_type": "execute_result"
    }
   ],
   "source": [
    "len(name)"
   ]
  },
  {
   "cell_type": "code",
   "execution_count": 21,
   "id": "e707eef7",
   "metadata": {},
   "outputs": [
    {
     "data": {
      "text/plain": [
       "False"
      ]
     },
     "execution_count": 21,
     "metadata": {},
     "output_type": "execute_result"
    }
   ],
   "source": [
    "name.islower()"
   ]
  },
  {
   "cell_type": "code",
   "execution_count": 22,
   "id": "02858a83",
   "metadata": {},
   "outputs": [
    {
     "data": {
      "text/plain": [
       "True"
      ]
     },
     "execution_count": 22,
     "metadata": {},
     "output_type": "execute_result"
    }
   ],
   "source": [
    "name.istitle()"
   ]
  },
  {
   "cell_type": "code",
   "execution_count": 23,
   "id": "c2fab211",
   "metadata": {},
   "outputs": [
    {
     "data": {
      "text/plain": [
       "'paras  '"
      ]
     },
     "execution_count": 23,
     "metadata": {},
     "output_type": "execute_result"
    }
   ],
   "source": [
    "name = '   paras  '\n",
    "name.lstrip()"
   ]
  },
  {
   "cell_type": "code",
   "execution_count": 24,
   "id": "84c008e7",
   "metadata": {},
   "outputs": [
    {
     "data": {
      "text/plain": [
       "'   paras'"
      ]
     },
     "execution_count": 24,
     "metadata": {},
     "output_type": "execute_result"
    }
   ],
   "source": [
    "name.rstrip()"
   ]
  },
  {
   "cell_type": "code",
   "execution_count": 25,
   "id": "8fbe2330",
   "metadata": {},
   "outputs": [
    {
     "data": {
      "text/plain": [
       "'paras'"
      ]
     },
     "execution_count": 25,
     "metadata": {},
     "output_type": "execute_result"
    }
   ],
   "source": [
    "name.strip()"
   ]
  },
  {
   "cell_type": "code",
   "execution_count": 27,
   "id": "246ba0b0",
   "metadata": {},
   "outputs": [
    {
     "data": {
      "text/plain": [
       "True"
      ]
     },
     "execution_count": 27,
     "metadata": {},
     "output_type": "execute_result"
    }
   ],
   "source": [
    "name.startswith('   pa')"
   ]
  },
  {
   "cell_type": "code",
   "execution_count": 32,
   "id": "9e660fa9",
   "metadata": {},
   "outputs": [
    {
     "data": {
      "text/plain": [
       "True"
      ]
     },
     "execution_count": 32,
     "metadata": {},
     "output_type": "execute_result"
    }
   ],
   "source": [
    "name.endswith('s  ')"
   ]
  },
  {
   "cell_type": "code",
   "execution_count": null,
   "id": "e505de08",
   "metadata": {},
   "outputs": [],
   "source": [
    "pw"
   ]
  },
  {
   "cell_type": "code",
   "execution_count": 33,
   "id": "1c1251c3",
   "metadata": {},
   "outputs": [
    {
     "ename": "NameError",
     "evalue": "name 'pwd' is not defined",
     "output_type": "error",
     "traceback": [
      "\u001b[1;31m---------------------------------------------------------------------------\u001b[0m",
      "\u001b[1;31mNameError\u001b[0m                                 Traceback (most recent call last)",
      "\u001b[1;32m~\\AppData\\Local\\Temp/ipykernel_11336/769268627.py\u001b[0m in \u001b[0;36m<module>\u001b[1;34m\u001b[0m\n\u001b[0;32m      1\u001b[0m \u001b[1;31m## to chake current working directory use pwd\u001b[0m\u001b[1;33m\u001b[0m\u001b[1;33m\u001b[0m\u001b[0m\n\u001b[1;32m----> 2\u001b[1;33m \u001b[0mpwd\u001b[0m\u001b[1;33m\u001b[0m\u001b[1;33m\u001b[0m\u001b[0m\n\u001b[0m",
      "\u001b[1;31mNameError\u001b[0m: name 'pwd' is not defined"
     ]
    }
   ],
   "source": [
    "## to chake current working directory use pwd"
   ]
  },
  {
   "cell_type": "code",
   "execution_count": 35,
   "id": "42583f61",
   "metadata": {},
   "outputs": [
    {
     "data": {
      "text/plain": [
       "'   Pparas  '"
      ]
     },
     "execution_count": 35,
     "metadata": {},
     "output_type": "execute_result"
    }
   ],
   "source": [
    "name.replace('p','Pp')"
   ]
  },
  {
   "cell_type": "code",
   "execution_count": 36,
   "id": "42153645",
   "metadata": {},
   "outputs": [
    {
     "data": {
      "text/plain": [
       "['__add__',\n",
       " '__class__',\n",
       " '__contains__',\n",
       " '__delattr__',\n",
       " '__dir__',\n",
       " '__doc__',\n",
       " '__eq__',\n",
       " '__format__',\n",
       " '__ge__',\n",
       " '__getattribute__',\n",
       " '__getitem__',\n",
       " '__getnewargs__',\n",
       " '__gt__',\n",
       " '__hash__',\n",
       " '__init__',\n",
       " '__init_subclass__',\n",
       " '__iter__',\n",
       " '__le__',\n",
       " '__len__',\n",
       " '__lt__',\n",
       " '__mod__',\n",
       " '__mul__',\n",
       " '__ne__',\n",
       " '__new__',\n",
       " '__reduce__',\n",
       " '__reduce_ex__',\n",
       " '__repr__',\n",
       " '__rmod__',\n",
       " '__rmul__',\n",
       " '__setattr__',\n",
       " '__sizeof__',\n",
       " '__str__',\n",
       " '__subclasshook__',\n",
       " 'capitalize',\n",
       " 'casefold',\n",
       " 'center',\n",
       " 'count',\n",
       " 'encode',\n",
       " 'endswith',\n",
       " 'expandtabs',\n",
       " 'find',\n",
       " 'format',\n",
       " 'format_map',\n",
       " 'index',\n",
       " 'isalnum',\n",
       " 'isalpha',\n",
       " 'isascii',\n",
       " 'isdecimal',\n",
       " 'isdigit',\n",
       " 'isidentifier',\n",
       " 'islower',\n",
       " 'isnumeric',\n",
       " 'isprintable',\n",
       " 'isspace',\n",
       " 'istitle',\n",
       " 'isupper',\n",
       " 'join',\n",
       " 'ljust',\n",
       " 'lower',\n",
       " 'lstrip',\n",
       " 'maketrans',\n",
       " 'partition',\n",
       " 'removeprefix',\n",
       " 'removesuffix',\n",
       " 'replace',\n",
       " 'rfind',\n",
       " 'rindex',\n",
       " 'rjust',\n",
       " 'rpartition',\n",
       " 'rsplit',\n",
       " 'rstrip',\n",
       " 'split',\n",
       " 'splitlines',\n",
       " 'startswith',\n",
       " 'strip',\n",
       " 'swapcase',\n",
       " 'title',\n",
       " 'translate',\n",
       " 'upper',\n",
       " 'zfill']"
      ]
     },
     "execution_count": 36,
     "metadata": {},
     "output_type": "execute_result"
    }
   ],
   "source": [
    "# it give list of all function we can use on name\n",
    "dir(name)"
   ]
  },
  {
   "cell_type": "code",
   "execution_count": 37,
   "id": "829c2a26",
   "metadata": {},
   "outputs": [
    {
     "name": "stdout",
     "output_type": "stream",
     "text": [
      "Help on built-in function zfill:\n",
      "\n",
      "zfill(width, /) method of builtins.str instance\n",
      "    Pad a numeric string with zeros on the left, to fill a field of the given width.\n",
      "    \n",
      "    The string is never truncated.\n",
      "\n"
     ]
    }
   ],
   "source": [
    "# to check what perticular funciotn does (what zfill does)\n",
    "help(name.zfill)"
   ]
  },
  {
   "cell_type": "code",
   "execution_count": 43,
   "id": "171f4551",
   "metadata": {},
   "outputs": [
    {
     "name": "stdout",
     "output_type": "stream",
     "text": [
      "hello sir123\n"
     ]
    }
   ],
   "source": [
    "name1 = 'hello'\n",
    "name2 = 'sir'\n",
    "data = name1 + ' ' + name2 + '123'\n",
    "print(data)"
   ]
  },
  {
   "cell_type": "markdown",
   "id": "b727619d",
   "metadata": {},
   "source": [
    "#### Ecscape sequence"
   ]
  },
  {
   "cell_type": "code",
   "execution_count": 44,
   "id": "5609c41d",
   "metadata": {},
   "outputs": [
    {
     "name": "stdout",
     "output_type": "stream",
     "text": [
      "hello\n",
      "word\n"
     ]
    }
   ],
   "source": [
    "print('hello\\nword')"
   ]
  },
  {
   "cell_type": "code",
   "execution_count": 45,
   "id": "cac31e36",
   "metadata": {},
   "outputs": [
    {
     "name": "stdout",
     "output_type": "stream",
     "text": [
      "hello\tword\n"
     ]
    }
   ],
   "source": [
    "print('hello\\tword')"
   ]
  },
  {
   "cell_type": "code",
   "execution_count": 46,
   "id": "a21faf67",
   "metadata": {},
   "outputs": [
    {
     "name": "stdout",
     "output_type": "stream",
     "text": [
      "hello\\word\n"
     ]
    }
   ],
   "source": [
    "print('hello\\\\word')"
   ]
  },
  {
   "cell_type": "code",
   "execution_count": 48,
   "id": "63199983",
   "metadata": {},
   "outputs": [
    {
     "data": {
      "text/plain": [
       "' this is first line\\nthis is second line'"
      ]
     },
     "execution_count": 48,
     "metadata": {},
     "output_type": "execute_result"
    }
   ],
   "source": [
    "doc = ''' this is first line\n",
    "this is second line'''\n",
    "doc"
   ]
  },
  {
   "cell_type": "code",
   "execution_count": 49,
   "id": "a5eaf5c9",
   "metadata": {},
   "outputs": [
    {
     "name": "stdout",
     "output_type": "stream",
     "text": [
      "my name is  paras and marks are 78\n"
     ]
    }
   ],
   "source": [
    "# print funciton\n",
    "name = 'paras'\n",
    "marks = 78\n",
    "print('my name is ', name, 'and marks are', marks)"
   ]
  },
  {
   "cell_type": "code",
   "execution_count": 51,
   "id": "805143f9",
   "metadata": {},
   "outputs": [
    {
     "name": "stdout",
     "output_type": "stream",
     "text": [
      "my name is paras ans marks are 78\n"
     ]
    }
   ],
   "source": [
    "# formatted print\n",
    "print('my name is %s ans marks are %i' %(name, marks))"
   ]
  },
  {
   "cell_type": "code",
   "execution_count": 52,
   "id": "715d6d82",
   "metadata": {},
   "outputs": [
    {
     "name": "stdout",
     "output_type": "stream",
     "text": [
      "my name is paras ans marks are 78.000000\n"
     ]
    }
   ],
   "source": [
    "print('my name is %s ans marks are %f' %(name, marks))"
   ]
  },
  {
   "cell_type": "code",
   "execution_count": 53,
   "id": "c47fa96f",
   "metadata": {},
   "outputs": [
    {
     "name": "stdout",
     "output_type": "stream",
     "text": [
      "my name is paras ans marks are 78.00\n"
     ]
    }
   ],
   "source": [
    "print('my name is %s ans marks are %.2f' %(name, marks))"
   ]
  },
  {
   "cell_type": "code",
   "execution_count": 54,
   "id": "4ff6bf40",
   "metadata": {},
   "outputs": [
    {
     "name": "stdout",
     "output_type": "stream",
     "text": [
      "paras&78&sankalp\n"
     ]
    }
   ],
   "source": [
    "print(name, marks,\"sankalp\", sep = '&')"
   ]
  },
  {
   "cell_type": "code",
   "execution_count": 55,
   "id": "671f6b2f",
   "metadata": {},
   "outputs": [
    {
     "name": "stdout",
     "output_type": "stream",
     "text": [
      "paras 78 sankalp^"
     ]
    }
   ],
   "source": [
    "print(name, marks,\"sankalp\", end = '^')"
   ]
  },
  {
   "cell_type": "markdown",
   "id": "9621f949",
   "metadata": {},
   "source": [
    "# operators"
   ]
  },
  {
   "cell_type": "code",
   "execution_count": 56,
   "id": "b2aabbee",
   "metadata": {},
   "outputs": [
    {
     "data": {
      "text/plain": [
       "3.3333333333333335"
      ]
     },
     "execution_count": 56,
     "metadata": {},
     "output_type": "execute_result"
    }
   ],
   "source": [
    "10 / 3"
   ]
  },
  {
   "cell_type": "code",
   "execution_count": 57,
   "id": "5a0b7492",
   "metadata": {},
   "outputs": [
    {
     "data": {
      "text/plain": [
       "3"
      ]
     },
     "execution_count": 57,
     "metadata": {},
     "output_type": "execute_result"
    }
   ],
   "source": [
    "10 // 3   #floor dicision"
   ]
  },
  {
   "cell_type": "code",
   "execution_count": 58,
   "id": "6b62f88d",
   "metadata": {},
   "outputs": [
    {
     "data": {
      "text/plain": [
       "8"
      ]
     },
     "execution_count": 58,
     "metadata": {},
     "output_type": "execute_result"
    }
   ],
   "source": [
    "2 ** 3"
   ]
  },
  {
   "cell_type": "code",
   "execution_count": 59,
   "id": "b5a0b102",
   "metadata": {},
   "outputs": [],
   "source": [
    "# relational operators   < , >= , ==, etc"
   ]
  },
  {
   "cell_type": "code",
   "execution_count": 60,
   "id": "a16c22ad",
   "metadata": {},
   "outputs": [
    {
     "data": {
      "text/plain": [
       "False"
      ]
     },
     "execution_count": 60,
     "metadata": {},
     "output_type": "execute_result"
    }
   ],
   "source": [
    "# logical operators\n",
    "num1 = 10\n",
    "num2 = 20\n",
    "num1 > num2 and num1 == 10"
   ]
  },
  {
   "cell_type": "code",
   "execution_count": 61,
   "id": "fdcb8aae",
   "metadata": {},
   "outputs": [
    {
     "data": {
      "text/plain": [
       "True"
      ]
     },
     "execution_count": 61,
     "metadata": {},
     "output_type": "execute_result"
    }
   ],
   "source": [
    "num1 > num2 or num1 == 10"
   ]
  },
  {
   "cell_type": "markdown",
   "id": "a9835bac",
   "metadata": {},
   "source": [
    "## type casting"
   ]
  },
  {
   "cell_type": "code",
   "execution_count": 62,
   "id": "e6ab6409",
   "metadata": {},
   "outputs": [
    {
     "name": "stdout",
     "output_type": "stream",
     "text": [
      "22.11\n",
      "22\n"
     ]
    }
   ],
   "source": [
    "num2 = 12.11\n",
    "print(num1 + num2)\n",
    "print(num1 + int(num2))"
   ]
  },
  {
   "cell_type": "markdown",
   "id": "0872c257",
   "metadata": {},
   "source": [
    "### user input"
   ]
  },
  {
   "cell_type": "code",
   "execution_count": 64,
   "id": "64dd736f",
   "metadata": {},
   "outputs": [
    {
     "name": "stdout",
     "output_type": "stream",
     "text": [
      "enter the 1st numnber10\n",
      "enter the 2nd number50\n",
      "addition is:  1050\n"
     ]
    }
   ],
   "source": [
    "#it consider inout as string\n",
    "num1 = input('enter the 1st numnber')\n",
    "num2 = input('enter the 2nd number')\n",
    "\n",
    "add = num1 + num2\n",
    "print('addition is: ', add)"
   ]
  },
  {
   "cell_type": "code",
   "execution_count": 65,
   "id": "c35b05dc",
   "metadata": {},
   "outputs": [
    {
     "name": "stdout",
     "output_type": "stream",
     "text": [
      "enter the 1st numnber10\n",
      "enter the 2nd number50\n",
      "addition is:  60\n"
     ]
    }
   ],
   "source": [
    "num1 = int(input('enter the 1st numnber'))\n",
    "num2 = int(input('enter the 2nd number'))\n",
    "\n",
    "add = num1 + num2\n",
    "print('addition is: ', add)"
   ]
  },
  {
   "cell_type": "code",
   "execution_count": null,
   "id": "2f16cd19",
   "metadata": {},
   "outputs": [],
   "source": []
  }
 ],
 "metadata": {
  "kernelspec": {
   "display_name": "Python 3 (ipykernel)",
   "language": "python",
   "name": "python3"
  },
  "language_info": {
   "codemirror_mode": {
    "name": "ipython",
    "version": 3
   },
   "file_extension": ".py",
   "mimetype": "text/x-python",
   "name": "python",
   "nbconvert_exporter": "python",
   "pygments_lexer": "ipython3",
   "version": "3.9.7"
  }
 },
 "nbformat": 4,
 "nbformat_minor": 5
}
