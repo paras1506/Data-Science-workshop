{
 "cells": [
  {
   "cell_type": "code",
   "execution_count": 5,
   "id": "d9d68bb3",
   "metadata": {},
   "outputs": [],
   "source": [
    "class Employee():\n",
    "    pass"
   ]
  },
  {
   "cell_type": "code",
   "execution_count": 6,
   "id": "e758da98",
   "metadata": {},
   "outputs": [],
   "source": [
    "#creating objects\n",
    "emp1 = Employee()    #instance of a class\n",
    "emp2 = Employee()"
   ]
  },
  {
   "cell_type": "code",
   "execution_count": 7,
   "id": "8fd7afa0",
   "metadata": {},
   "outputs": [
    {
     "name": "stdout",
     "output_type": "stream",
     "text": [
      "<__main__.Employee object at 0x0000029543752160>\n"
     ]
    }
   ],
   "source": [
    "print(emp1)"
   ]
  },
  {
   "cell_type": "code",
   "execution_count": 8,
   "id": "61b30e4b",
   "metadata": {},
   "outputs": [
    {
     "name": "stdout",
     "output_type": "stream",
     "text": [
      "<__main__.Employee object at 0x0000029543665370>\n"
     ]
    }
   ],
   "source": [
    "print(emp2)"
   ]
  },
  {
   "cell_type": "code",
   "execution_count": 13,
   "id": "ad6e8752",
   "metadata": {},
   "outputs": [],
   "source": [
    "#attributes \n",
    "emp1.first = 'paras'   #instance variable\n",
    "emp1.last = 'wane'\n",
    "emp1.salary = 20000\n"
   ]
  },
  {
   "cell_type": "code",
   "execution_count": 11,
   "id": "73013b53",
   "metadata": {},
   "outputs": [],
   "source": [
    "emp2.first = 'sankalp'\n",
    "emp2.last = 'kambple'\n",
    "emp2.salary = 500000\n"
   ]
  },
  {
   "cell_type": "code",
   "execution_count": 12,
   "id": "829e33ec",
   "metadata": {},
   "outputs": [
    {
     "name": "stdout",
     "output_type": "stream",
     "text": [
      "500000\n"
     ]
    }
   ],
   "source": [
    "print(emp2.salary)"
   ]
  },
  {
   "cell_type": "code",
   "execution_count": 14,
   "id": "d3d22dc7",
   "metadata": {},
   "outputs": [
    {
     "name": "stdout",
     "output_type": "stream",
     "text": [
      "wane\n"
     ]
    }
   ],
   "source": [
    "print(emp1.last)"
   ]
  },
  {
   "cell_type": "code",
   "execution_count": 44,
   "id": "7d26d8c9",
   "metadata": {},
   "outputs": [],
   "source": [
    "class Employee():\n",
    "    def __init__(self,first, last, salary):    #__init__ act as initializer(constructor), means it will execute as soon as object of class is instatiated \n",
    "        self.first = first                     #self is same as this key word in other lang.\n",
    "        self.last = last\n",
    "        self.salary = salary\n",
    "    def msg(self):\n",
    "        print(self.first + ' ' + 'ok')\n",
    "    def info(self):\n",
    "        print(f\"Full name of employee is {self.first} {self.last}  \\n salary = {self.salary}\")"
   ]
  },
  {
   "cell_type": "code",
   "execution_count": 45,
   "id": "fdf85565",
   "metadata": {},
   "outputs": [],
   "source": [
    "emp1 = Employee('Paras', 'wane', 52000)\n",
    "emp2 = Employee('Sankalp', 'Kamble', 980000)"
   ]
  },
  {
   "cell_type": "code",
   "execution_count": 46,
   "id": "1a2fac2e",
   "metadata": {},
   "outputs": [
    {
     "name": "stdout",
     "output_type": "stream",
     "text": [
      "Kamble\n"
     ]
    }
   ],
   "source": [
    "print(emp2.last)"
   ]
  },
  {
   "cell_type": "code",
   "execution_count": 47,
   "id": "21797cdb",
   "metadata": {},
   "outputs": [
    {
     "name": "stdout",
     "output_type": "stream",
     "text": [
      "Paras ok\n"
     ]
    }
   ],
   "source": [
    "emp1.msg()"
   ]
  },
  {
   "cell_type": "code",
   "execution_count": 48,
   "id": "e7333d74",
   "metadata": {},
   "outputs": [
    {
     "name": "stdout",
     "output_type": "stream",
     "text": [
      "Full name of employee is Sankalp Kamble  \n",
      " salary = 980000\n"
     ]
    }
   ],
   "source": [
    "emp2.info()"
   ]
  },
  {
   "cell_type": "markdown",
   "id": "c9e3820f",
   "metadata": {},
   "source": [
    "## Encapsulation"
   ]
  },
  {
   "cell_type": "code",
   "execution_count": 51,
   "id": "68f1b873",
   "metadata": {},
   "outputs": [],
   "source": [
    "## making public variable private using __\n",
    "class Employee():\n",
    "    def __init__(self,first, last, salary):     \n",
    "        self.first = first                     \n",
    "        self.last = last\n",
    "        self.__salary = salary     # by writing  __ in front of attribute it becomes private variable "
   ]
  },
  {
   "cell_type": "code",
   "execution_count": 52,
   "id": "a6da275a",
   "metadata": {},
   "outputs": [],
   "source": [
    "emp1 = Employee('Paras', 'wane', 52000)\n",
    "emp2 = Employee('Sankalp', 'Kamble', 980000)"
   ]
  },
  {
   "cell_type": "code",
   "execution_count": 53,
   "id": "b1eac5cc",
   "metadata": {},
   "outputs": [
    {
     "ename": "AttributeError",
     "evalue": "'Employee' object has no attribute 'salary'",
     "output_type": "error",
     "traceback": [
      "\u001b[1;31m---------------------------------------------------------------------------\u001b[0m",
      "\u001b[1;31mAttributeError\u001b[0m                            Traceback (most recent call last)",
      "\u001b[1;32m~\\AppData\\Local\\Temp/ipykernel_3264/3218224878.py\u001b[0m in \u001b[0;36m<module>\u001b[1;34m\u001b[0m\n\u001b[1;32m----> 1\u001b[1;33m \u001b[0mprint\u001b[0m\u001b[1;33m(\u001b[0m\u001b[0memp2\u001b[0m\u001b[1;33m.\u001b[0m\u001b[0msalary\u001b[0m\u001b[1;33m)\u001b[0m  \u001b[1;31m# gives an error\u001b[0m\u001b[1;33m\u001b[0m\u001b[1;33m\u001b[0m\u001b[0m\n\u001b[0m",
      "\u001b[1;31mAttributeError\u001b[0m: 'Employee' object has no attribute 'salary'"
     ]
    }
   ],
   "source": [
    "print(emp2.salary)  # gives an error"
   ]
  },
  {
   "cell_type": "code",
   "execution_count": 54,
   "id": "05bc86fa",
   "metadata": {},
   "outputs": [
    {
     "name": "stdout",
     "output_type": "stream",
     "text": [
      "Sankalp\n"
     ]
    }
   ],
   "source": [
    "print(emp2.first)"
   ]
  },
  {
   "cell_type": "markdown",
   "id": "d24915d5",
   "metadata": {},
   "source": [
    "# Inheritance"
   ]
  },
  {
   "cell_type": "code",
   "execution_count": 55,
   "id": "9cbd885e",
   "metadata": {},
   "outputs": [],
   "source": [
    "class Employee2(Employee):    \n",
    "    pass\n"
   ]
  },
  {
   "cell_type": "code",
   "execution_count": 56,
   "id": "7891e266",
   "metadata": {},
   "outputs": [],
   "source": [
    "emp3 = Employee2('Ram', 'Ghate', 10000)"
   ]
  },
  {
   "cell_type": "code",
   "execution_count": 57,
   "id": "43de03a6",
   "metadata": {},
   "outputs": [
    {
     "data": {
      "text/plain": [
       "'Ram'"
      ]
     },
     "execution_count": 57,
     "metadata": {},
     "output_type": "execute_result"
    }
   ],
   "source": [
    "emp3.first  # we can access attributes of parent class here"
   ]
  },
  {
   "cell_type": "code",
   "execution_count": null,
   "id": "9d037f0b",
   "metadata": {},
   "outputs": [],
   "source": []
  }
 ],
 "metadata": {
  "kernelspec": {
   "display_name": "Python 3 (ipykernel)",
   "language": "python",
   "name": "python3"
  },
  "language_info": {
   "codemirror_mode": {
    "name": "ipython",
    "version": 3
   },
   "file_extension": ".py",
   "mimetype": "text/x-python",
   "name": "python",
   "nbconvert_exporter": "python",
   "pygments_lexer": "ipython3",
   "version": "3.9.7"
  }
 },
 "nbformat": 4,
 "nbformat_minor": 5
}
