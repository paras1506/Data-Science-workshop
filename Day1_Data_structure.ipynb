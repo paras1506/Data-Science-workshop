{
 "cells": [
  {
   "cell_type": "markdown",
   "id": "e4c05a59",
   "metadata": {},
   "source": [
    "# List\n"
   ]
  },
  {
   "cell_type": "raw",
   "id": "be591494",
   "metadata": {},
   "source": [
    "properties\n",
    "\n",
    "1) duplicates are allowed\n",
    "2) heterogenious (can store different data type)\n",
    "3) list is ordered\n",
    "4) l[-1] = last position of list and l[-2] = last second position of list"
   ]
  },
  {
   "cell_type": "code",
   "execution_count": 2,
   "id": "cd9db836",
   "metadata": {},
   "outputs": [
    {
     "data": {
      "text/plain": [
       "list"
      ]
     },
     "execution_count": 2,
     "metadata": {},
     "output_type": "execute_result"
    }
   ],
   "source": [
    "l = [23, 45, 67, 89, 65, 78, 78]\n",
    "type(l)"
   ]
  },
  {
   "cell_type": "code",
   "execution_count": 3,
   "id": "5db63cef",
   "metadata": {},
   "outputs": [],
   "source": [
    "l = [23, 45, 67, 89,'paras',  65, 78, 78]\n"
   ]
  },
  {
   "cell_type": "code",
   "execution_count": 4,
   "id": "f937e12a",
   "metadata": {},
   "outputs": [
    {
     "data": {
      "text/plain": [
       "67"
      ]
     },
     "execution_count": 4,
     "metadata": {},
     "output_type": "execute_result"
    }
   ],
   "source": [
    "l[2]"
   ]
  },
  {
   "cell_type": "code",
   "execution_count": 6,
   "id": "7d7ca909",
   "metadata": {},
   "outputs": [
    {
     "data": {
      "text/plain": [
       "[23, 50, 67, 89, 'paras', 65, 78, 78]"
      ]
     },
     "execution_count": 6,
     "metadata": {},
     "output_type": "execute_result"
    }
   ],
   "source": [
    "l[1] = 50\n",
    "l"
   ]
  },
  {
   "cell_type": "markdown",
   "id": "f4f7dd68",
   "metadata": {},
   "source": [
    "## slicing"
   ]
  },
  {
   "cell_type": "code",
   "execution_count": 7,
   "id": "a6120b04",
   "metadata": {},
   "outputs": [
    {
     "data": {
      "text/plain": [
       "[50, 67, 89, 'paras', 65]"
      ]
     },
     "execution_count": 7,
     "metadata": {},
     "output_type": "execute_result"
    }
   ],
   "source": [
    "#slicing\n",
    "l[1:6]\n",
    "# printing from index 1 to 5"
   ]
  },
  {
   "cell_type": "code",
   "execution_count": 8,
   "id": "25deac1f",
   "metadata": {},
   "outputs": [
    {
     "data": {
      "text/plain": [
       "[50, 67, 89, 'paras', 65, 78, 78]"
      ]
     },
     "execution_count": 8,
     "metadata": {},
     "output_type": "execute_result"
    }
   ],
   "source": [
    "l[1:]"
   ]
  },
  {
   "cell_type": "code",
   "execution_count": 9,
   "id": "087bb524",
   "metadata": {},
   "outputs": [
    {
     "data": {
      "text/plain": [
       "[23, 50, 67, 89, 'paras']"
      ]
     },
     "execution_count": 9,
     "metadata": {},
     "output_type": "execute_result"
    }
   ],
   "source": [
    "l[:5]"
   ]
  },
  {
   "cell_type": "code",
   "execution_count": 10,
   "id": "9be0d284",
   "metadata": {},
   "outputs": [
    {
     "data": {
      "text/plain": [
       "[50, 89, 65]"
      ]
     },
     "execution_count": 10,
     "metadata": {},
     "output_type": "execute_result"
    }
   ],
   "source": [
    "l[1:6:2]   # parameters => [start: end+1 : step]\n"
   ]
  },
  {
   "cell_type": "code",
   "execution_count": 11,
   "id": "aba2cc97",
   "metadata": {},
   "outputs": [
    {
     "data": {
      "text/plain": [
       "[23, 50, 67, 89, 'paras', 65, 78, 78]"
      ]
     },
     "execution_count": 11,
     "metadata": {},
     "output_type": "execute_result"
    }
   ],
   "source": [
    "l[:]"
   ]
  },
  {
   "cell_type": "code",
   "execution_count": 12,
   "id": "3df69e6e",
   "metadata": {},
   "outputs": [],
   "source": [
    "l[2:5] = [34, 70 , 80]"
   ]
  },
  {
   "cell_type": "code",
   "execution_count": 13,
   "id": "250406a3",
   "metadata": {},
   "outputs": [
    {
     "data": {
      "text/plain": [
       "[23, 50, 34, 70, 80, 65, 78, 78]"
      ]
     },
     "execution_count": 13,
     "metadata": {},
     "output_type": "execute_result"
    }
   ],
   "source": [
    "l"
   ]
  },
  {
   "cell_type": "code",
   "execution_count": 14,
   "id": "26a6cffd",
   "metadata": {},
   "outputs": [
    {
     "data": {
      "text/plain": [
       "False"
      ]
     },
     "execution_count": 14,
     "metadata": {},
     "output_type": "execute_result"
    }
   ],
   "source": [
    "# in operator\n",
    "74 in l"
   ]
  },
  {
   "cell_type": "code",
   "execution_count": 15,
   "id": "fd2d1268",
   "metadata": {},
   "outputs": [
    {
     "data": {
      "text/plain": [
       "True"
      ]
     },
     "execution_count": 15,
     "metadata": {},
     "output_type": "execute_result"
    }
   ],
   "source": [
    "23 in l"
   ]
  },
  {
   "cell_type": "code",
   "execution_count": 16,
   "id": "b7a61660",
   "metadata": {},
   "outputs": [],
   "source": [
    "#remove\n",
    "\n",
    "del l[1]"
   ]
  },
  {
   "cell_type": "code",
   "execution_count": 17,
   "id": "e4e9e422",
   "metadata": {},
   "outputs": [
    {
     "data": {
      "text/plain": [
       "[23, 34, 70, 80, 65, 78, 78]"
      ]
     },
     "execution_count": 17,
     "metadata": {},
     "output_type": "execute_result"
    }
   ],
   "source": [
    "l"
   ]
  },
  {
   "cell_type": "code",
   "execution_count": 18,
   "id": "e97dcb89",
   "metadata": {},
   "outputs": [
    {
     "data": {
      "text/plain": [
       "[23, 34, 70, 80, 65, 78, 78, 23, 34, 70, 80, 65, 78, 78]"
      ]
     },
     "execution_count": 18,
     "metadata": {},
     "output_type": "execute_result"
    }
   ],
   "source": [
    "#arithmetic operation\n",
    "\n",
    "l * 2"
   ]
  },
  {
   "cell_type": "code",
   "execution_count": 19,
   "id": "98243b03",
   "metadata": {},
   "outputs": [
    {
     "data": {
      "text/plain": [
       "[23, 34, 70, 80, 65, 78, 78, 45, 60]"
      ]
     },
     "execution_count": 19,
     "metadata": {},
     "output_type": "execute_result"
    }
   ],
   "source": [
    "l +[45,60]"
   ]
  },
  {
   "cell_type": "code",
   "execution_count": 20,
   "id": "7b76ed0d",
   "metadata": {},
   "outputs": [
    {
     "name": "stdout",
     "output_type": "stream",
     "text": [
      "23\n",
      "65\n"
     ]
    }
   ],
   "source": [
    "for n in l:\n",
    "    if(n%2 != 0):\n",
    "        print(n)"
   ]
  },
  {
   "cell_type": "code",
   "execution_count": 21,
   "id": "37877a18",
   "metadata": {},
   "outputs": [],
   "source": [
    "#empty list\n",
    "e = []"
   ]
  },
  {
   "cell_type": "code",
   "execution_count": 22,
   "id": "00d24643",
   "metadata": {},
   "outputs": [],
   "source": [
    "e +=[20]"
   ]
  },
  {
   "cell_type": "code",
   "execution_count": 23,
   "id": "30d3f44c",
   "metadata": {},
   "outputs": [
    {
     "data": {
      "text/plain": [
       "[20]"
      ]
     },
     "execution_count": 23,
     "metadata": {},
     "output_type": "execute_result"
    }
   ],
   "source": [
    "e"
   ]
  },
  {
   "cell_type": "code",
   "execution_count": 24,
   "id": "fe53e1d5",
   "metadata": {},
   "outputs": [],
   "source": [
    "# List in List\n",
    "e +=[1, 2, [3, 4,5,6]]"
   ]
  },
  {
   "cell_type": "code",
   "execution_count": 25,
   "id": "bdbf1901",
   "metadata": {},
   "outputs": [
    {
     "name": "stdout",
     "output_type": "stream",
     "text": [
      "[20, 1, 2, [3, 4, 5, 6]]\n"
     ]
    }
   ],
   "source": [
    "print(e)"
   ]
  },
  {
   "cell_type": "code",
   "execution_count": 28,
   "id": "bae45f73",
   "metadata": {},
   "outputs": [
    {
     "data": {
      "text/plain": [
       "3"
      ]
     },
     "execution_count": 28,
     "metadata": {},
     "output_type": "execute_result"
    }
   ],
   "source": [
    "e[3][0]"
   ]
  },
  {
   "cell_type": "code",
   "execution_count": 29,
   "id": "660c35f2",
   "metadata": {},
   "outputs": [
    {
     "data": {
      "text/plain": [
       "23"
      ]
     },
     "execution_count": 29,
     "metadata": {},
     "output_type": "execute_result"
    }
   ],
   "source": [
    "#function on list\n",
    "l = [23, 34, 70, 80, 65, 78, 78, 45, 60]\n",
    "min(l)"
   ]
  },
  {
   "cell_type": "code",
   "execution_count": 30,
   "id": "79271963",
   "metadata": {},
   "outputs": [
    {
     "data": {
      "text/plain": [
       "80"
      ]
     },
     "execution_count": 30,
     "metadata": {},
     "output_type": "execute_result"
    }
   ],
   "source": [
    "max(l)"
   ]
  },
  {
   "cell_type": "code",
   "execution_count": 31,
   "id": "0132ef8f",
   "metadata": {},
   "outputs": [
    {
     "data": {
      "text/plain": [
       "[23, 34, 45, 60, 65, 70, 78, 78, 80]"
      ]
     },
     "execution_count": 31,
     "metadata": {},
     "output_type": "execute_result"
    }
   ],
   "source": [
    "sorted(l)"
   ]
  },
  {
   "cell_type": "code",
   "execution_count": 32,
   "id": "c81a3b62",
   "metadata": {},
   "outputs": [
    {
     "data": {
      "text/plain": [
       "[80, 78, 78, 70, 65, 60, 45, 34, 23]"
      ]
     },
     "execution_count": 32,
     "metadata": {},
     "output_type": "execute_result"
    }
   ],
   "source": [
    "sorted(l,reverse = True)"
   ]
  },
  {
   "cell_type": "code",
   "execution_count": 34,
   "id": "483af0ef",
   "metadata": {},
   "outputs": [
    {
     "data": {
      "text/plain": [
       "[23, 34, 70, 80, 65, 78, 78, 45, 60, 100, 100]"
      ]
     },
     "execution_count": 34,
     "metadata": {},
     "output_type": "execute_result"
    }
   ],
   "source": [
    "#methods\n",
    "\n",
    "l.append(100)\n",
    "l"
   ]
  },
  {
   "cell_type": "code",
   "execution_count": 36,
   "id": "3d165b23",
   "metadata": {},
   "outputs": [
    {
     "name": "stdout",
     "output_type": "stream",
     "text": [
      "[12, 23, 34, [56, 67]]\n",
      "[12, 23, 34, 56, 67]\n"
     ]
    }
   ],
   "source": [
    "x = [12,23,34]\n",
    "y = [12,23,34]\n",
    "\n",
    "x.append([56,67])\n",
    "y.extend([56,67])\n",
    "\n",
    "print(x)\n",
    "print(y)"
   ]
  },
  {
   "cell_type": "code",
   "execution_count": 37,
   "id": "78eef5ab",
   "metadata": {},
   "outputs": [
    {
     "data": {
      "text/plain": [
       "[23, 34, 70, 80, 65, 78, 78, 45, 60, 100, 100]"
      ]
     },
     "execution_count": 37,
     "metadata": {},
     "output_type": "execute_result"
    }
   ],
   "source": [
    "l"
   ]
  },
  {
   "cell_type": "code",
   "execution_count": 38,
   "id": "248fc885",
   "metadata": {},
   "outputs": [
    {
     "data": {
      "text/plain": [
       "[23, 34, 101, 70, 80, 65, 78, 78, 45, 60, 100, 100]"
      ]
     },
     "execution_count": 38,
     "metadata": {},
     "output_type": "execute_result"
    }
   ],
   "source": [
    "# insert\n",
    "l.insert(2,101)\n",
    "l"
   ]
  },
  {
   "cell_type": "code",
   "execution_count": 42,
   "id": "89d123f4",
   "metadata": {},
   "outputs": [
    {
     "data": {
      "text/plain": [
       "[23, 34, 70, 80, 65, 78, 78, 45, 60, 100, 100]"
      ]
     },
     "execution_count": 42,
     "metadata": {},
     "output_type": "execute_result"
    }
   ],
   "source": [
    "#remove\n",
    "l.remove(101)\n",
    "\n",
    "l"
   ]
  },
  {
   "cell_type": "code",
   "execution_count": 43,
   "id": "e1b9c476",
   "metadata": {},
   "outputs": [
    {
     "data": {
      "text/plain": [
       "100"
      ]
     },
     "execution_count": 43,
     "metadata": {},
     "output_type": "execute_result"
    }
   ],
   "source": [
    "l.pop()"
   ]
  },
  {
   "cell_type": "code",
   "execution_count": 44,
   "id": "d7bcd175",
   "metadata": {},
   "outputs": [],
   "source": [
    "#clear\n",
    "#if we dont know what this functoin do exactly then ckick inside () then click shift+tab\n",
    "l.clear()"
   ]
  },
  {
   "cell_type": "code",
   "execution_count": 45,
   "id": "18dff914",
   "metadata": {},
   "outputs": [
    {
     "data": {
      "text/plain": [
       "[]"
      ]
     },
     "execution_count": 45,
     "metadata": {},
     "output_type": "execute_result"
    }
   ],
   "source": [
    "l"
   ]
  },
  {
   "cell_type": "markdown",
   "id": "7f472863",
   "metadata": {},
   "source": [
    "# Tuple"
   ]
  },
  {
   "cell_type": "code",
   "execution_count": null,
   "id": "317a9190",
   "metadata": {},
   "outputs": [],
   "source": [
    "#it imutable , non updatable"
   ]
  },
  {
   "cell_type": "code",
   "execution_count": 46,
   "id": "f6e5bf99",
   "metadata": {},
   "outputs": [
    {
     "data": {
      "text/plain": [
       "(45, 34, 'adi', 67.78, 34)"
      ]
     },
     "execution_count": 46,
     "metadata": {},
     "output_type": "execute_result"
    }
   ],
   "source": [
    "t = (45,34,'adi',67.78,34)\n",
    "t"
   ]
  },
  {
   "cell_type": "code",
   "execution_count": 47,
   "id": "b79c8a04",
   "metadata": {},
   "outputs": [
    {
     "data": {
      "text/plain": [
       "tuple"
      ]
     },
     "execution_count": 47,
     "metadata": {},
     "output_type": "execute_result"
    }
   ],
   "source": [
    "type(t)"
   ]
  },
  {
   "cell_type": "code",
   "execution_count": 48,
   "id": "01038386",
   "metadata": {},
   "outputs": [],
   "source": [
    "# we can not update tuple at all\n",
    "\n",
    "l0 = list(t)"
   ]
  },
  {
   "cell_type": "code",
   "execution_count": 49,
   "id": "deaa0225",
   "metadata": {},
   "outputs": [
    {
     "data": {
      "text/plain": [
       "(45, 34, 'adi', 67.78, 34)"
      ]
     },
     "execution_count": 49,
     "metadata": {},
     "output_type": "execute_result"
    }
   ],
   "source": [
    "t"
   ]
  },
  {
   "cell_type": "code",
   "execution_count": 50,
   "id": "573fa40a",
   "metadata": {},
   "outputs": [
    {
     "data": {
      "text/plain": [
       "tuple"
      ]
     },
     "execution_count": 50,
     "metadata": {},
     "output_type": "execute_result"
    }
   ],
   "source": [
    "type(t)"
   ]
  },
  {
   "cell_type": "code",
   "execution_count": 51,
   "id": "88f0e93f",
   "metadata": {},
   "outputs": [
    {
     "data": {
      "text/plain": [
       "1"
      ]
     },
     "execution_count": 51,
     "metadata": {},
     "output_type": "execute_result"
    }
   ],
   "source": [
    "t.index(34)"
   ]
  },
  {
   "cell_type": "markdown",
   "id": "5d057bf7",
   "metadata": {},
   "source": [
    "# Dictionary"
   ]
  },
  {
   "cell_type": "raw",
   "id": "2363b657",
   "metadata": {},
   "source": [
    "properties\n",
    "\n",
    "1)we can not duplicate kay value\n"
   ]
  },
  {
   "cell_type": "code",
   "execution_count": 52,
   "id": "4a688ad7",
   "metadata": {},
   "outputs": [
    {
     "data": {
      "text/plain": [
       "{1: 45, 2: 67, 3: 45, 4: 68}"
      ]
     },
     "execution_count": 52,
     "metadata": {},
     "output_type": "execute_result"
    }
   ],
   "source": [
    "d1 = {1:45 , 2:67 , 3:45, 4:68}\n",
    "d1\n"
   ]
  },
  {
   "cell_type": "code",
   "execution_count": 53,
   "id": "b94722a6",
   "metadata": {},
   "outputs": [
    {
     "data": {
      "text/plain": [
       "dict"
      ]
     },
     "execution_count": 53,
     "metadata": {},
     "output_type": "execute_result"
    }
   ],
   "source": [
    "type(d1)"
   ]
  },
  {
   "cell_type": "code",
   "execution_count": 55,
   "id": "466d8d91",
   "metadata": {},
   "outputs": [
    {
     "data": {
      "text/plain": [
       "{1: 45, 2: 67, 3: 45, 4: 68, 5: 45}"
      ]
     },
     "execution_count": 55,
     "metadata": {},
     "output_type": "execute_result"
    }
   ],
   "source": [
    "d1[5] = 45\n",
    "d1"
   ]
  },
  {
   "cell_type": "code",
   "execution_count": 56,
   "id": "194a3948",
   "metadata": {},
   "outputs": [
    {
     "data": {
      "text/plain": [
       "68"
      ]
     },
     "execution_count": 56,
     "metadata": {},
     "output_type": "execute_result"
    }
   ],
   "source": [
    "d1[4]"
   ]
  },
  {
   "cell_type": "code",
   "execution_count": 59,
   "id": "870d9ae4",
   "metadata": {},
   "outputs": [
    {
     "data": {
      "text/plain": [
       "{1: 45, 2: 67, 3: 45, 4: 68, 5: 45, 8: 100}"
      ]
     },
     "execution_count": 59,
     "metadata": {},
     "output_type": "execute_result"
    }
   ],
   "source": [
    "d1[8] = 100\n",
    "d1"
   ]
  },
  {
   "cell_type": "code",
   "execution_count": 60,
   "id": "bb983b40",
   "metadata": {},
   "outputs": [
    {
     "data": {
      "text/plain": [
       "100"
      ]
     },
     "execution_count": 60,
     "metadata": {},
     "output_type": "execute_result"
    }
   ],
   "source": [
    "d1[8]"
   ]
  },
  {
   "cell_type": "code",
   "execution_count": 61,
   "id": "a3bfce75",
   "metadata": {},
   "outputs": [
    {
     "data": {
      "text/plain": [
       "{1: 45, 2: 67, 3: 45, 4: 68, 5: 45, 8: 100, 10: [43, 53, 16]}"
      ]
     },
     "execution_count": 61,
     "metadata": {},
     "output_type": "execute_result"
    }
   ],
   "source": [
    "d1[10] = [43,53,16]\n",
    "d1"
   ]
  },
  {
   "cell_type": "code",
   "execution_count": 62,
   "id": "4a6f1867",
   "metadata": {},
   "outputs": [
    {
     "data": {
      "text/plain": [
       "{1: 45, 2: 67, 3: 45, 4: 68, 5: 45, 8: 100, 10: [43, 53, 16], 'a': 'apple'}"
      ]
     },
     "execution_count": 62,
     "metadata": {},
     "output_type": "execute_result"
    }
   ],
   "source": [
    "d1['a'] = 'apple'\n",
    "d1"
   ]
  },
  {
   "cell_type": "code",
   "execution_count": 63,
   "id": "4dcca774",
   "metadata": {},
   "outputs": [
    {
     "data": {
      "text/plain": [
       "{1: 45,\n",
       " 2: 67,\n",
       " 3: 45,\n",
       " 4: 68,\n",
       " 5: 45,\n",
       " 8: 100,\n",
       " 10: [43, 53, 16],\n",
       " 'a': 'apple',\n",
       " 6: 101}"
      ]
     },
     "execution_count": 63,
     "metadata": {},
     "output_type": "execute_result"
    }
   ],
   "source": [
    "d1[6] = 101\n",
    "d1"
   ]
  },
  {
   "cell_type": "code",
   "execution_count": 64,
   "id": "213dd301",
   "metadata": {},
   "outputs": [
    {
     "data": {
      "text/plain": [
       "[1, 2, 3, 4, 5, 8, 10, 'a', 6]"
      ]
     },
     "execution_count": 64,
     "metadata": {},
     "output_type": "execute_result"
    }
   ],
   "source": [
    "list(d1.keys())"
   ]
  },
  {
   "cell_type": "code",
   "execution_count": 65,
   "id": "4a7998fe",
   "metadata": {},
   "outputs": [
    {
     "data": {
      "text/plain": [
       "[45, 67, 45, 68, 45, 100, [43, 53, 16], 'apple', 101]"
      ]
     },
     "execution_count": 65,
     "metadata": {},
     "output_type": "execute_result"
    }
   ],
   "source": [
    "list(d1.values())"
   ]
  },
  {
   "cell_type": "markdown",
   "id": "4828f10b",
   "metadata": {},
   "source": [
    "# Set"
   ]
  },
  {
   "cell_type": "code",
   "execution_count": null,
   "id": "80779b33",
   "metadata": {},
   "outputs": [],
   "source": [
    "#sets are unorder there is no idexing\n",
    "# no duplicate values\n",
    "#elements are sorted"
   ]
  },
  {
   "cell_type": "code",
   "execution_count": 66,
   "id": "96718aeb",
   "metadata": {},
   "outputs": [
    {
     "data": {
      "text/plain": [
       "{45, 54, 67, 78.99}"
      ]
     },
     "execution_count": 66,
     "metadata": {},
     "output_type": "execute_result"
    }
   ],
   "source": [
    "s = {45,67,54,45,78.99}\n",
    "s"
   ]
  },
  {
   "cell_type": "code",
   "execution_count": 67,
   "id": "5d1a4374",
   "metadata": {},
   "outputs": [
    {
     "data": {
      "text/plain": [
       "set"
      ]
     },
     "execution_count": 67,
     "metadata": {},
     "output_type": "execute_result"
    }
   ],
   "source": [
    "type(s)"
   ]
  },
  {
   "cell_type": "code",
   "execution_count": 68,
   "id": "58e6d934",
   "metadata": {},
   "outputs": [
    {
     "data": {
      "text/plain": [
       "{45, 54, 67, 78.99, 100}"
      ]
     },
     "execution_count": 68,
     "metadata": {},
     "output_type": "execute_result"
    }
   ],
   "source": [
    "s.add(100)\n",
    "s"
   ]
  },
  {
   "cell_type": "code",
   "execution_count": 69,
   "id": "d30e382f",
   "metadata": {},
   "outputs": [
    {
     "data": {
      "text/plain": [
       "{2, 45, 54, 67, 78.99, 100}"
      ]
     },
     "execution_count": 69,
     "metadata": {},
     "output_type": "execute_result"
    }
   ],
   "source": [
    "s.add(2)\n",
    "s"
   ]
  },
  {
   "cell_type": "code",
   "execution_count": 70,
   "id": "77f05f90",
   "metadata": {},
   "outputs": [
    {
     "data": {
      "text/plain": [
       "frozenset({2, 45, 54, 67, 78.99, 100})"
      ]
     },
     "execution_count": 70,
     "metadata": {},
     "output_type": "execute_result"
    }
   ],
   "source": [
    "frozenset(s)"
   ]
  },
  {
   "cell_type": "markdown",
   "id": "24906f1f",
   "metadata": {},
   "source": [
    "# Function"
   ]
  },
  {
   "cell_type": "code",
   "execution_count": null,
   "id": "15326625",
   "metadata": {},
   "outputs": [],
   "source": []
  }
 ],
 "metadata": {
  "kernelspec": {
   "display_name": "Python 3 (ipykernel)",
   "language": "python",
   "name": "python3"
  },
  "language_info": {
   "codemirror_mode": {
    "name": "ipython",
    "version": 3
   },
   "file_extension": ".py",
   "mimetype": "text/x-python",
   "name": "python",
   "nbconvert_exporter": "python",
   "pygments_lexer": "ipython3",
   "version": "3.9.7"
  }
 },
 "nbformat": 4,
 "nbformat_minor": 5
}
