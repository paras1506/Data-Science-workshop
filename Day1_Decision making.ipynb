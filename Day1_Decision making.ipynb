{
 "cells": [
  {
   "cell_type": "code",
   "execution_count": 1,
   "id": "d65b54fa",
   "metadata": {},
   "outputs": [],
   "source": [
    "num = 30\n",
    "if(num > 40):\n",
    "    print('ok')"
   ]
  },
  {
   "cell_type": "code",
   "execution_count": 2,
   "id": "d0cf3197",
   "metadata": {},
   "outputs": [
    {
     "name": "stdout",
     "output_type": "stream",
     "text": [
      "not ok\n"
     ]
    }
   ],
   "source": [
    "if num > 40:\n",
    "    print('ok')\n",
    "else:\n",
    "    print('not ok')"
   ]
  },
  {
   "cell_type": "code",
   "execution_count": 6,
   "id": "f7d04a64",
   "metadata": {},
   "outputs": [
    {
     "name": "stdout",
     "output_type": "stream",
     "text": [
      "0\n",
      "zero\n"
     ]
    }
   ],
   "source": [
    "# program to check number is positive or negative\n",
    "num = int(input())\n",
    "if(num < 0):\n",
    "    print('negative')\n",
    "elif(num == 0):\n",
    "    print('zero')\n",
    "else:\n",
    "    print('positive')"
   ]
  },
  {
   "cell_type": "code",
   "execution_count": 9,
   "id": "3ee1e37d",
   "metadata": {},
   "outputs": [
    {
     "name": "stdout",
     "output_type": "stream",
     "text": [
      "Enter the number 7\n",
      "odd\n"
     ]
    }
   ],
   "source": [
    "#check if number is even or odd\n",
    "\n",
    "num = int(input('Enter the number '))\n",
    "if(num%2 == 0):\n",
    "    print('Even')\n",
    "else:\n",
    "    print('odd')"
   ]
  },
  {
   "cell_type": "code",
   "execution_count": 13,
   "id": "0da428d6",
   "metadata": {},
   "outputs": [
    {
     "name": "stdout",
     "output_type": "stream",
     "text": [
      "Enter the number60\n",
      "yes, between 50 and 100\n"
     ]
    }
   ],
   "source": [
    "#check if the number is in between 50 and 100\n",
    "num = int(input('Enter the number'))\n",
    "if(num>=50 and num<=100):\n",
    "    print('yes, between 50 and 100')\n",
    "else:\n",
    "    print('Not between 50 and 100')"
   ]
  },
  {
   "cell_type": "code",
   "execution_count": 14,
   "id": "06f76bee",
   "metadata": {},
   "outputs": [
    {
     "name": "stdout",
     "output_type": "stream",
     "text": [
      "yes\n"
     ]
    }
   ],
   "source": [
    "#check if the number is in between 50 and 100\n",
    "\n",
    "if(num>= 50):\n",
    "    if(num<=100):\n",
    "        print('yes')\n",
    "    else:\n",
    "        print('no')\n",
    "else:\n",
    "    print('no')"
   ]
  },
  {
   "cell_type": "code",
   "execution_count": 17,
   "id": "ceb05305",
   "metadata": {},
   "outputs": [
    {
     "name": "stdout",
     "output_type": "stream",
     "text": [
      "enter number 1 145\n",
      "enter number 2 8\n",
      "enter number 3 2\n",
      "greater =  145\n"
     ]
    }
   ],
   "source": [
    "#take three user input find out which is greater\n",
    "num1 = int(input('enter number 1 '))\n",
    "num2 = int(input('enter number 2 '))\n",
    "num3 = int(input('enter number 3 '))\n",
    "\n",
    "if(num1>num2 and num1>num3):\n",
    "    print('greater = ', num1)\n",
    "elif(num2>num1 and num2>num3):\n",
    "    print('greater = ', num2)\n",
    "else:\n",
    "    print('greater = ', num3)\n"
   ]
  },
  {
   "cell_type": "code",
   "execution_count": 25,
   "id": "751d85e4",
   "metadata": {},
   "outputs": [
    {
     "name": "stdout",
     "output_type": "stream",
     "text": [
      "Enter the year1800\n",
      "century but not leap year\n"
     ]
    }
   ],
   "source": [
    "#leap year if year is divisible by 4 and century year should be divided by 400\n",
    "\n",
    "year = int(input('Enter the year'))\n",
    "\n",
    "if(year%100 == 0):\n",
    "    if(year%400==0):\n",
    "        print('leap year')\n",
    "    else:\n",
    "        print('century but not leap year')\n",
    "else:\n",
    "    if(year%4==0):\n",
    "        print('leap year')\n",
    "    else:\n",
    "        print('not leap year')\n",
    "    "
   ]
  },
  {
   "cell_type": "code",
   "execution_count": 31,
   "id": "7afa57ee",
   "metadata": {},
   "outputs": [
    {
     "name": "stdout",
     "output_type": "stream",
     "text": [
      "Enter the number5\n",
      "MENU\n",
      "1. square\n",
      "2. cube\n",
      "3. positive or negative\n",
      "4. odd or even\n",
      "Enter your choice 4\n",
      "5  is odd\n"
     ]
    }
   ],
   "source": [
    "#menu driven\n",
    "\n",
    "'''\n",
    "1. square\n",
    "2. cube\n",
    "3. positive or negative\n",
    "'''\n",
    "\n",
    "num = int(input('Enter the number '))\n",
    "print('MENU\\n1. square\\n2. cube\\n3. positive or negative\\n4. odd or even')\n",
    "\n",
    "ch = int(input('Enter your choice '))\n",
    "if(ch == 1):\n",
    "    print('Square is', num*num)\n",
    "elif(ch == 2):\n",
    "    print('cube is ', num**3)\n",
    "elif(ch == 3):\n",
    "    if num > 0:\n",
    "        print('positive')\n",
    "    else:\n",
    "        print('negative')\n",
    "elif(ch == 4):\n",
    "        if(num%2 == 0):\n",
    "            print(num, ' is even')\n",
    "        else:\n",
    "            print(num, ' is odd')\n",
    "else:\n",
    "    print('Invalid choise')"
   ]
  },
  {
   "cell_type": "markdown",
   "id": "a668b34f",
   "metadata": {},
   "source": [
    "# while loop\n"
   ]
  },
  {
   "cell_type": "code",
   "execution_count": 34,
   "id": "58a44841",
   "metadata": {},
   "outputs": [
    {
     "name": "stdout",
     "output_type": "stream",
     "text": [
      "ParaSankalp\n",
      "ParaSankalp\n",
      "ParaSankalp\n",
      "ParaSankalp\n",
      "ParaSankalp\n",
      "ParaSankalp\n",
      "ParaSankalp\n",
      "ParaSankalp\n",
      "ParaSankalp\n"
     ]
    }
   ],
   "source": [
    "count = 1\n",
    "while count < 10:\n",
    "    print('ParaSankalp', end =\"-\")\n",
    "    count+=1"
   ]
  },
  {
   "cell_type": "code",
   "execution_count": 36,
   "id": "1696d0d0",
   "metadata": {},
   "outputs": [
    {
     "name": "stdout",
     "output_type": "stream",
     "text": [
      "1\n",
      "2\n",
      "3\n",
      "4\n",
      "5\n"
     ]
    }
   ],
   "source": [
    "count = 1\n",
    "while count <= 5:\n",
    "    print(count)\n",
    "    count += 1"
   ]
  },
  {
   "cell_type": "code",
   "execution_count": 39,
   "id": "3d11f624",
   "metadata": {},
   "outputs": [
    {
     "name": "stdout",
     "output_type": "stream",
     "text": [
      "1+ 2+ 3+ 4+ 5+ 6+ 7+ 8+ 9+ 10+ = 55\n"
     ]
    }
   ],
   "source": [
    "#addition of number from 1 to 10\n",
    "sum = 0\n",
    "i = 1\n",
    "while i <= 10:\n",
    "    sum += i\n",
    "    print(i, end='+ ')\n",
    "    i+=1;\n",
    "print('=', sum)"
   ]
  },
  {
   "cell_type": "code",
   "execution_count": 41,
   "id": "5db97a65",
   "metadata": {},
   "outputs": [
    {
     "name": "stdout",
     "output_type": "stream",
     "text": [
      "100\n"
     ]
    }
   ],
   "source": [
    "sum = 0\n",
    "i = 1\n",
    "while(i < 20):\n",
    "    sum += i\n",
    "    i += 2\n",
    "print(sum)"
   ]
  },
  {
   "cell_type": "code",
   "execution_count": 45,
   "id": "23054286",
   "metadata": {},
   "outputs": [
    {
     "name": "stdout",
     "output_type": "stream",
     "text": [
      "Enter the number12345\n",
      "15\n"
     ]
    }
   ],
   "source": [
    "num = int(input('Enter the number'))\n",
    "add = 0\n",
    "\n",
    "while num:\n",
    "    dig = int(num%10)\n",
    "    add += dig\n",
    "    num = num//10\n",
    "print(add)"
   ]
  },
  {
   "cell_type": "markdown",
   "id": "46b39fa2",
   "metadata": {},
   "source": [
    "## For Loop\n"
   ]
  },
  {
   "cell_type": "code",
   "execution_count": 46,
   "id": "cea8b1b0",
   "metadata": {},
   "outputs": [
    {
     "name": "stdout",
     "output_type": "stream",
     "text": [
      "34\n",
      "56\n",
      "78\n",
      "43\n",
      "22\n"
     ]
    }
   ],
   "source": [
    "for n in 34, 56, 78, 43,22:\n",
    "    print(n)"
   ]
  },
  {
   "cell_type": "code",
   "execution_count": 47,
   "id": "05f37cb9",
   "metadata": {},
   "outputs": [
    {
     "data": {
      "text/plain": [
       "[1, 2, 3, 4, 5, 6, 7, 8, 9]"
      ]
     },
     "execution_count": 47,
     "metadata": {},
     "output_type": "execute_result"
    }
   ],
   "source": [
    "#range function\n",
    "list (range(1,10))"
   ]
  },
  {
   "cell_type": "code",
   "execution_count": 49,
   "id": "0306d3c7",
   "metadata": {},
   "outputs": [
    {
     "data": {
      "text/plain": [
       "[1, 3, 5, 7, 9]"
      ]
     },
     "execution_count": 49,
     "metadata": {},
     "output_type": "execute_result"
    }
   ],
   "source": [
    "list (range(1,10,2))\n",
    "#range(starting num,  excluding last num, increase by)"
   ]
  },
  {
   "cell_type": "code",
   "execution_count": 52,
   "id": "f9c7ec5a",
   "metadata": {},
   "outputs": [
    {
     "data": {
      "text/plain": [
       "[0, 1, 2, 3, 4, 5, 6, 7, 8, 9]"
      ]
     },
     "execution_count": 52,
     "metadata": {},
     "output_type": "execute_result"
    }
   ],
   "source": [
    "list (range(10))\n",
    "#range(last Number)"
   ]
  },
  {
   "cell_type": "code",
   "execution_count": 50,
   "id": "2a960ad3",
   "metadata": {},
   "outputs": [
    {
     "name": "stdout",
     "output_type": "stream",
     "text": [
      "0\n",
      "1\n",
      "2\n",
      "3\n",
      "4\n",
      "5\n",
      "6\n",
      "7\n",
      "8\n",
      "9\n"
     ]
    }
   ],
   "source": [
    "for n in range(10):\n",
    "    print(n)"
   ]
  },
  {
   "cell_type": "code",
   "execution_count": 51,
   "id": "73c2c0d0",
   "metadata": {},
   "outputs": [
    {
     "name": "stdout",
     "output_type": "stream",
     "text": [
      "Paras\n",
      "Paras\n",
      "Paras\n",
      "Paras\n",
      "Paras\n",
      "Paras\n",
      "Paras\n",
      "Paras\n",
      "Paras\n",
      "Paras\n"
     ]
    }
   ],
   "source": [
    "for n in range(10):\n",
    "    print(\"Paras\")"
   ]
  },
  {
   "cell_type": "code",
   "execution_count": 53,
   "id": "129c7d4a",
   "metadata": {},
   "outputs": [
    {
     "name": "stdout",
     "output_type": "stream",
     "text": [
      "55\n"
     ]
    }
   ],
   "source": [
    "sum = 0\n",
    "for i in range(1,11):\n",
    "    sum += i\n",
    "print(sum)"
   ]
  },
  {
   "cell_type": "code",
   "execution_count": 54,
   "id": "8f458075",
   "metadata": {},
   "outputs": [
    {
     "name": "stdout",
     "output_type": "stream",
     "text": [
      "0\n",
      "1\n",
      "2\n",
      "3\n",
      "4\n"
     ]
    }
   ],
   "source": [
    "#break\n",
    "\n",
    "for x in range(10):\n",
    "    if x == 5:\n",
    "        break\n",
    "    print(x)\n"
   ]
  },
  {
   "cell_type": "code",
   "execution_count": 55,
   "id": "a56953b4",
   "metadata": {},
   "outputs": [
    {
     "name": "stdout",
     "output_type": "stream",
     "text": [
      "0\n",
      "1\n",
      "2\n",
      "3\n",
      "4\n",
      "6\n",
      "7\n",
      "8\n",
      "9\n"
     ]
    }
   ],
   "source": [
    "#continue\n",
    "for x in range(10):\n",
    "    if x == 5:\n",
    "        continue\n",
    "    print(x)\n"
   ]
  },
  {
   "cell_type": "code",
   "execution_count": null,
   "id": "26f56b84",
   "metadata": {},
   "outputs": [],
   "source": []
  }
 ],
 "metadata": {
  "kernelspec": {
   "display_name": "Python 3 (ipykernel)",
   "language": "python",
   "name": "python3"
  },
  "language_info": {
   "codemirror_mode": {
    "name": "ipython",
    "version": 3
   },
   "file_extension": ".py",
   "mimetype": "text/x-python",
   "name": "python",
   "nbconvert_exporter": "python",
   "pygments_lexer": "ipython3",
   "version": "3.9.7"
  }
 },
 "nbformat": 4,
 "nbformat_minor": 5
}
