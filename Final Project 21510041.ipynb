{
 "cells": [
  {
   "cell_type": "markdown",
   "id": "9e12a9d0",
   "metadata": {},
   "source": [
    "## BACH CORAL HARMONY PREDICTION"
   ]
  },
  {
   "cell_type": "markdown",
   "id": "0e902612",
   "metadata": {},
   "source": [
    "#### Read the dataset\n"
   ]
  },
  {
   "cell_type": "code",
   "execution_count": 281,
   "id": "cfe9f002",
   "metadata": {},
   "outputs": [],
   "source": [
    "import pandas as pd\n",
    "import numpy as np\n",
    "import matplotlib.pyplot as plt\n",
    "import seaborn as sns"
   ]
  },
  {
   "cell_type": "code",
   "execution_count": 282,
   "id": "66361025",
   "metadata": {},
   "outputs": [
    {
     "data": {
      "text/html": [
       "<div>\n",
       "<style scoped>\n",
       "    .dataframe tbody tr th:only-of-type {\n",
       "        vertical-align: middle;\n",
       "    }\n",
       "\n",
       "    .dataframe tbody tr th {\n",
       "        vertical-align: top;\n",
       "    }\n",
       "\n",
       "    .dataframe thead th {\n",
       "        text-align: right;\n",
       "    }\n",
       "</style>\n",
       "<table border=\"1\" class=\"dataframe\">\n",
       "  <thead>\n",
       "    <tr style=\"text-align: right;\">\n",
       "      <th></th>\n",
       "      <th>000106b_</th>\n",
       "      <th>1</th>\n",
       "      <th>YES</th>\n",
       "      <th>NO</th>\n",
       "      <th>NO.1</th>\n",
       "      <th>NO.2</th>\n",
       "      <th>NO.3</th>\n",
       "      <th>YES.1</th>\n",
       "      <th>NO.4</th>\n",
       "      <th>NO.5</th>\n",
       "      <th>NO.6</th>\n",
       "      <th>YES.2</th>\n",
       "      <th>NO.7</th>\n",
       "      <th>NO.8</th>\n",
       "      <th>F</th>\n",
       "      <th>3</th>\n",
       "      <th>F_M</th>\n",
       "    </tr>\n",
       "  </thead>\n",
       "  <tbody>\n",
       "    <tr>\n",
       "      <th>0</th>\n",
       "      <td>000106b_</td>\n",
       "      <td>2</td>\n",
       "      <td>YES</td>\n",
       "      <td>NO</td>\n",
       "      <td>NO</td>\n",
       "      <td>NO</td>\n",
       "      <td>YES</td>\n",
       "      <td>NO</td>\n",
       "      <td>NO</td>\n",
       "      <td>YES</td>\n",
       "      <td>NO</td>\n",
       "      <td>NO</td>\n",
       "      <td>NO</td>\n",
       "      <td>NO</td>\n",
       "      <td>E</td>\n",
       "      <td>5</td>\n",
       "      <td>C_M</td>\n",
       "    </tr>\n",
       "    <tr>\n",
       "      <th>1</th>\n",
       "      <td>000106b_</td>\n",
       "      <td>3</td>\n",
       "      <td>YES</td>\n",
       "      <td>NO</td>\n",
       "      <td>NO</td>\n",
       "      <td>NO</td>\n",
       "      <td>YES</td>\n",
       "      <td>NO</td>\n",
       "      <td>NO</td>\n",
       "      <td>YES</td>\n",
       "      <td>NO</td>\n",
       "      <td>NO</td>\n",
       "      <td>NO</td>\n",
       "      <td>NO</td>\n",
       "      <td>E</td>\n",
       "      <td>2</td>\n",
       "      <td>C_M</td>\n",
       "    </tr>\n",
       "    <tr>\n",
       "      <th>2</th>\n",
       "      <td>000106b_</td>\n",
       "      <td>4</td>\n",
       "      <td>YES</td>\n",
       "      <td>NO</td>\n",
       "      <td>NO</td>\n",
       "      <td>NO</td>\n",
       "      <td>NO</td>\n",
       "      <td>YES</td>\n",
       "      <td>NO</td>\n",
       "      <td>NO</td>\n",
       "      <td>NO</td>\n",
       "      <td>YES</td>\n",
       "      <td>NO</td>\n",
       "      <td>NO</td>\n",
       "      <td>F</td>\n",
       "      <td>3</td>\n",
       "      <td>F_M</td>\n",
       "    </tr>\n",
       "    <tr>\n",
       "      <th>3</th>\n",
       "      <td>000106b_</td>\n",
       "      <td>5</td>\n",
       "      <td>YES</td>\n",
       "      <td>NO</td>\n",
       "      <td>NO</td>\n",
       "      <td>NO</td>\n",
       "      <td>NO</td>\n",
       "      <td>YES</td>\n",
       "      <td>NO</td>\n",
       "      <td>NO</td>\n",
       "      <td>NO</td>\n",
       "      <td>YES</td>\n",
       "      <td>NO</td>\n",
       "      <td>NO</td>\n",
       "      <td>F</td>\n",
       "      <td>2</td>\n",
       "      <td>F_M</td>\n",
       "    </tr>\n",
       "    <tr>\n",
       "      <th>4</th>\n",
       "      <td>000106b_</td>\n",
       "      <td>6</td>\n",
       "      <td>NO</td>\n",
       "      <td>NO</td>\n",
       "      <td>YES</td>\n",
       "      <td>NO</td>\n",
       "      <td>NO</td>\n",
       "      <td>YES</td>\n",
       "      <td>NO</td>\n",
       "      <td>NO</td>\n",
       "      <td>NO</td>\n",
       "      <td>YES</td>\n",
       "      <td>NO</td>\n",
       "      <td>NO</td>\n",
       "      <td>D</td>\n",
       "      <td>4</td>\n",
       "      <td>D_m</td>\n",
       "    </tr>\n",
       "    <tr>\n",
       "      <th>...</th>\n",
       "      <td>...</td>\n",
       "      <td>...</td>\n",
       "      <td>...</td>\n",
       "      <td>...</td>\n",
       "      <td>...</td>\n",
       "      <td>...</td>\n",
       "      <td>...</td>\n",
       "      <td>...</td>\n",
       "      <td>...</td>\n",
       "      <td>...</td>\n",
       "      <td>...</td>\n",
       "      <td>...</td>\n",
       "      <td>...</td>\n",
       "      <td>...</td>\n",
       "      <td>...</td>\n",
       "      <td>...</td>\n",
       "      <td>...</td>\n",
       "    </tr>\n",
       "    <tr>\n",
       "      <th>5659</th>\n",
       "      <td>015505b_</td>\n",
       "      <td>105</td>\n",
       "      <td>NO</td>\n",
       "      <td>NO</td>\n",
       "      <td>YES</td>\n",
       "      <td>NO</td>\n",
       "      <td>NO</td>\n",
       "      <td>NO</td>\n",
       "      <td>NO</td>\n",
       "      <td>YES</td>\n",
       "      <td>NO</td>\n",
       "      <td>NO</td>\n",
       "      <td>YES</td>\n",
       "      <td>NO</td>\n",
       "      <td>G</td>\n",
       "      <td>4</td>\n",
       "      <td>G_m</td>\n",
       "    </tr>\n",
       "    <tr>\n",
       "      <th>5660</th>\n",
       "      <td>015505b_</td>\n",
       "      <td>106</td>\n",
       "      <td>NO</td>\n",
       "      <td>NO</td>\n",
       "      <td>YES</td>\n",
       "      <td>NO</td>\n",
       "      <td>NO</td>\n",
       "      <td>NO</td>\n",
       "      <td>NO</td>\n",
       "      <td>YES</td>\n",
       "      <td>NO</td>\n",
       "      <td>YES</td>\n",
       "      <td>NO</td>\n",
       "      <td>NO</td>\n",
       "      <td>G</td>\n",
       "      <td>3</td>\n",
       "      <td>G_m</td>\n",
       "    </tr>\n",
       "    <tr>\n",
       "      <th>5661</th>\n",
       "      <td>015505b_</td>\n",
       "      <td>107</td>\n",
       "      <td>YES</td>\n",
       "      <td>NO</td>\n",
       "      <td>NO</td>\n",
       "      <td>NO</td>\n",
       "      <td>YES</td>\n",
       "      <td>NO</td>\n",
       "      <td>NO</td>\n",
       "      <td>YES</td>\n",
       "      <td>NO</td>\n",
       "      <td>NO</td>\n",
       "      <td>NO</td>\n",
       "      <td>NO</td>\n",
       "      <td>C</td>\n",
       "      <td>5</td>\n",
       "      <td>C_M</td>\n",
       "    </tr>\n",
       "    <tr>\n",
       "      <th>5662</th>\n",
       "      <td>015505b_</td>\n",
       "      <td>108</td>\n",
       "      <td>YES</td>\n",
       "      <td>NO</td>\n",
       "      <td>NO</td>\n",
       "      <td>NO</td>\n",
       "      <td>YES</td>\n",
       "      <td>NO</td>\n",
       "      <td>NO</td>\n",
       "      <td>YES</td>\n",
       "      <td>NO</td>\n",
       "      <td>NO</td>\n",
       "      <td>YES</td>\n",
       "      <td>NO</td>\n",
       "      <td>C</td>\n",
       "      <td>3</td>\n",
       "      <td>C_M</td>\n",
       "    </tr>\n",
       "    <tr>\n",
       "      <th>5663</th>\n",
       "      <td>015505b_</td>\n",
       "      <td>109</td>\n",
       "      <td>NO</td>\n",
       "      <td>NO</td>\n",
       "      <td>NO</td>\n",
       "      <td>NO</td>\n",
       "      <td>NO</td>\n",
       "      <td>YES</td>\n",
       "      <td>NO</td>\n",
       "      <td>NO</td>\n",
       "      <td>NO</td>\n",
       "      <td>YES</td>\n",
       "      <td>NO</td>\n",
       "      <td>NO</td>\n",
       "      <td>F</td>\n",
       "      <td>4</td>\n",
       "      <td>F_M</td>\n",
       "    </tr>\n",
       "  </tbody>\n",
       "</table>\n",
       "<p>5664 rows × 17 columns</p>\n",
       "</div>"
      ],
      "text/plain": [
       "      000106b_    1  YES   NO  NO.1  NO.2  NO.3 YES.1  NO.4  NO.5  NO.6 YES.2  \\\n",
       "0     000106b_    2  YES   NO    NO    NO   YES    NO    NO   YES    NO    NO   \n",
       "1     000106b_    3  YES   NO    NO    NO   YES    NO    NO   YES    NO    NO   \n",
       "2     000106b_    4  YES   NO    NO    NO    NO   YES    NO    NO    NO   YES   \n",
       "3     000106b_    5  YES   NO    NO    NO    NO   YES    NO    NO    NO   YES   \n",
       "4     000106b_    6   NO   NO   YES    NO    NO   YES    NO    NO    NO   YES   \n",
       "...        ...  ...  ...  ...   ...   ...   ...   ...   ...   ...   ...   ...   \n",
       "5659  015505b_  105   NO   NO   YES    NO    NO    NO    NO   YES    NO    NO   \n",
       "5660  015505b_  106   NO   NO   YES    NO    NO    NO    NO   YES    NO   YES   \n",
       "5661  015505b_  107  YES   NO    NO    NO   YES    NO    NO   YES    NO    NO   \n",
       "5662  015505b_  108  YES   NO    NO    NO   YES    NO    NO   YES    NO    NO   \n",
       "5663  015505b_  109   NO   NO    NO    NO    NO   YES    NO    NO    NO   YES   \n",
       "\n",
       "      NO.7  NO.8  F  3   F_M  \n",
       "0       NO    NO  E  5   C_M  \n",
       "1       NO    NO  E  2   C_M  \n",
       "2       NO    NO  F  3   F_M  \n",
       "3       NO    NO  F  2   F_M  \n",
       "4       NO    NO  D  4   D_m  \n",
       "...    ...   ... .. ..   ...  \n",
       "5659   YES    NO  G  4   G_m  \n",
       "5660    NO    NO  G  3   G_m  \n",
       "5661    NO    NO  C  5   C_M  \n",
       "5662   YES    NO  C  3   C_M  \n",
       "5663    NO    NO  F  4   F_M  \n",
       "\n",
       "[5664 rows x 17 columns]"
      ]
     },
     "execution_count": 282,
     "metadata": {},
     "output_type": "execute_result"
    }
   ],
   "source": [
    "df = pd.read_csv(\"jsbach_chorals_harmony.data\")\n",
    "df"
   ]
  },
  {
   "cell_type": "code",
   "execution_count": 283,
   "id": "95603f93",
   "metadata": {},
   "outputs": [
    {
     "data": {
      "text/html": [
       "<div>\n",
       "<style scoped>\n",
       "    .dataframe tbody tr th:only-of-type {\n",
       "        vertical-align: middle;\n",
       "    }\n",
       "\n",
       "    .dataframe tbody tr th {\n",
       "        vertical-align: top;\n",
       "    }\n",
       "\n",
       "    .dataframe thead th {\n",
       "        text-align: right;\n",
       "    }\n",
       "</style>\n",
       "<table border=\"1\" class=\"dataframe\">\n",
       "  <thead>\n",
       "    <tr style=\"text-align: right;\">\n",
       "      <th></th>\n",
       "      <th>Choral ID</th>\n",
       "      <th>Event number</th>\n",
       "      <th>Pitch class C</th>\n",
       "      <th>Pitch class C#/Db</th>\n",
       "      <th>Pitch class D</th>\n",
       "      <th>Pitch class D#/Eb</th>\n",
       "      <th>Pitch class E</th>\n",
       "      <th>Pitch class F</th>\n",
       "      <th>Pitch class F#/Gb</th>\n",
       "      <th>Pitch class G</th>\n",
       "      <th>Pitch class G#/Ab</th>\n",
       "      <th>Pitch class A</th>\n",
       "      <th>Pitch class A#/Bb</th>\n",
       "      <th>Pitch class B</th>\n",
       "      <th>Bass</th>\n",
       "      <th>Meter</th>\n",
       "      <th>Chord label</th>\n",
       "    </tr>\n",
       "  </thead>\n",
       "  <tbody>\n",
       "    <tr>\n",
       "      <th>0</th>\n",
       "      <td>000106b_</td>\n",
       "      <td>2</td>\n",
       "      <td>YES</td>\n",
       "      <td>NO</td>\n",
       "      <td>NO</td>\n",
       "      <td>NO</td>\n",
       "      <td>YES</td>\n",
       "      <td>NO</td>\n",
       "      <td>NO</td>\n",
       "      <td>YES</td>\n",
       "      <td>NO</td>\n",
       "      <td>NO</td>\n",
       "      <td>NO</td>\n",
       "      <td>NO</td>\n",
       "      <td>E</td>\n",
       "      <td>5</td>\n",
       "      <td>C_M</td>\n",
       "    </tr>\n",
       "    <tr>\n",
       "      <th>1</th>\n",
       "      <td>000106b_</td>\n",
       "      <td>3</td>\n",
       "      <td>YES</td>\n",
       "      <td>NO</td>\n",
       "      <td>NO</td>\n",
       "      <td>NO</td>\n",
       "      <td>YES</td>\n",
       "      <td>NO</td>\n",
       "      <td>NO</td>\n",
       "      <td>YES</td>\n",
       "      <td>NO</td>\n",
       "      <td>NO</td>\n",
       "      <td>NO</td>\n",
       "      <td>NO</td>\n",
       "      <td>E</td>\n",
       "      <td>2</td>\n",
       "      <td>C_M</td>\n",
       "    </tr>\n",
       "    <tr>\n",
       "      <th>2</th>\n",
       "      <td>000106b_</td>\n",
       "      <td>4</td>\n",
       "      <td>YES</td>\n",
       "      <td>NO</td>\n",
       "      <td>NO</td>\n",
       "      <td>NO</td>\n",
       "      <td>NO</td>\n",
       "      <td>YES</td>\n",
       "      <td>NO</td>\n",
       "      <td>NO</td>\n",
       "      <td>NO</td>\n",
       "      <td>YES</td>\n",
       "      <td>NO</td>\n",
       "      <td>NO</td>\n",
       "      <td>F</td>\n",
       "      <td>3</td>\n",
       "      <td>F_M</td>\n",
       "    </tr>\n",
       "    <tr>\n",
       "      <th>3</th>\n",
       "      <td>000106b_</td>\n",
       "      <td>5</td>\n",
       "      <td>YES</td>\n",
       "      <td>NO</td>\n",
       "      <td>NO</td>\n",
       "      <td>NO</td>\n",
       "      <td>NO</td>\n",
       "      <td>YES</td>\n",
       "      <td>NO</td>\n",
       "      <td>NO</td>\n",
       "      <td>NO</td>\n",
       "      <td>YES</td>\n",
       "      <td>NO</td>\n",
       "      <td>NO</td>\n",
       "      <td>F</td>\n",
       "      <td>2</td>\n",
       "      <td>F_M</td>\n",
       "    </tr>\n",
       "    <tr>\n",
       "      <th>4</th>\n",
       "      <td>000106b_</td>\n",
       "      <td>6</td>\n",
       "      <td>NO</td>\n",
       "      <td>NO</td>\n",
       "      <td>YES</td>\n",
       "      <td>NO</td>\n",
       "      <td>NO</td>\n",
       "      <td>YES</td>\n",
       "      <td>NO</td>\n",
       "      <td>NO</td>\n",
       "      <td>NO</td>\n",
       "      <td>YES</td>\n",
       "      <td>NO</td>\n",
       "      <td>NO</td>\n",
       "      <td>D</td>\n",
       "      <td>4</td>\n",
       "      <td>D_m</td>\n",
       "    </tr>\n",
       "    <tr>\n",
       "      <th>...</th>\n",
       "      <td>...</td>\n",
       "      <td>...</td>\n",
       "      <td>...</td>\n",
       "      <td>...</td>\n",
       "      <td>...</td>\n",
       "      <td>...</td>\n",
       "      <td>...</td>\n",
       "      <td>...</td>\n",
       "      <td>...</td>\n",
       "      <td>...</td>\n",
       "      <td>...</td>\n",
       "      <td>...</td>\n",
       "      <td>...</td>\n",
       "      <td>...</td>\n",
       "      <td>...</td>\n",
       "      <td>...</td>\n",
       "      <td>...</td>\n",
       "    </tr>\n",
       "    <tr>\n",
       "      <th>5659</th>\n",
       "      <td>015505b_</td>\n",
       "      <td>105</td>\n",
       "      <td>NO</td>\n",
       "      <td>NO</td>\n",
       "      <td>YES</td>\n",
       "      <td>NO</td>\n",
       "      <td>NO</td>\n",
       "      <td>NO</td>\n",
       "      <td>NO</td>\n",
       "      <td>YES</td>\n",
       "      <td>NO</td>\n",
       "      <td>NO</td>\n",
       "      <td>YES</td>\n",
       "      <td>NO</td>\n",
       "      <td>G</td>\n",
       "      <td>4</td>\n",
       "      <td>G_m</td>\n",
       "    </tr>\n",
       "    <tr>\n",
       "      <th>5660</th>\n",
       "      <td>015505b_</td>\n",
       "      <td>106</td>\n",
       "      <td>NO</td>\n",
       "      <td>NO</td>\n",
       "      <td>YES</td>\n",
       "      <td>NO</td>\n",
       "      <td>NO</td>\n",
       "      <td>NO</td>\n",
       "      <td>NO</td>\n",
       "      <td>YES</td>\n",
       "      <td>NO</td>\n",
       "      <td>YES</td>\n",
       "      <td>NO</td>\n",
       "      <td>NO</td>\n",
       "      <td>G</td>\n",
       "      <td>3</td>\n",
       "      <td>G_m</td>\n",
       "    </tr>\n",
       "    <tr>\n",
       "      <th>5661</th>\n",
       "      <td>015505b_</td>\n",
       "      <td>107</td>\n",
       "      <td>YES</td>\n",
       "      <td>NO</td>\n",
       "      <td>NO</td>\n",
       "      <td>NO</td>\n",
       "      <td>YES</td>\n",
       "      <td>NO</td>\n",
       "      <td>NO</td>\n",
       "      <td>YES</td>\n",
       "      <td>NO</td>\n",
       "      <td>NO</td>\n",
       "      <td>NO</td>\n",
       "      <td>NO</td>\n",
       "      <td>C</td>\n",
       "      <td>5</td>\n",
       "      <td>C_M</td>\n",
       "    </tr>\n",
       "    <tr>\n",
       "      <th>5662</th>\n",
       "      <td>015505b_</td>\n",
       "      <td>108</td>\n",
       "      <td>YES</td>\n",
       "      <td>NO</td>\n",
       "      <td>NO</td>\n",
       "      <td>NO</td>\n",
       "      <td>YES</td>\n",
       "      <td>NO</td>\n",
       "      <td>NO</td>\n",
       "      <td>YES</td>\n",
       "      <td>NO</td>\n",
       "      <td>NO</td>\n",
       "      <td>YES</td>\n",
       "      <td>NO</td>\n",
       "      <td>C</td>\n",
       "      <td>3</td>\n",
       "      <td>C_M</td>\n",
       "    </tr>\n",
       "    <tr>\n",
       "      <th>5663</th>\n",
       "      <td>015505b_</td>\n",
       "      <td>109</td>\n",
       "      <td>NO</td>\n",
       "      <td>NO</td>\n",
       "      <td>NO</td>\n",
       "      <td>NO</td>\n",
       "      <td>NO</td>\n",
       "      <td>YES</td>\n",
       "      <td>NO</td>\n",
       "      <td>NO</td>\n",
       "      <td>NO</td>\n",
       "      <td>YES</td>\n",
       "      <td>NO</td>\n",
       "      <td>NO</td>\n",
       "      <td>F</td>\n",
       "      <td>4</td>\n",
       "      <td>F_M</td>\n",
       "    </tr>\n",
       "  </tbody>\n",
       "</table>\n",
       "<p>5664 rows × 17 columns</p>\n",
       "</div>"
      ],
      "text/plain": [
       "     Choral ID  Event number Pitch class C Pitch class C#/Db Pitch class D  \\\n",
       "0     000106b_             2           YES                NO            NO   \n",
       "1     000106b_             3           YES                NO            NO   \n",
       "2     000106b_             4           YES                NO            NO   \n",
       "3     000106b_             5           YES                NO            NO   \n",
       "4     000106b_             6            NO                NO           YES   \n",
       "...        ...           ...           ...               ...           ...   \n",
       "5659  015505b_           105            NO                NO           YES   \n",
       "5660  015505b_           106            NO                NO           YES   \n",
       "5661  015505b_           107           YES                NO            NO   \n",
       "5662  015505b_           108           YES                NO            NO   \n",
       "5663  015505b_           109            NO                NO            NO   \n",
       "\n",
       "     Pitch class D#/Eb Pitch class E Pitch class F Pitch class F#/Gb  \\\n",
       "0                   NO           YES            NO                NO   \n",
       "1                   NO           YES            NO                NO   \n",
       "2                   NO            NO           YES                NO   \n",
       "3                   NO            NO           YES                NO   \n",
       "4                   NO            NO           YES                NO   \n",
       "...                ...           ...           ...               ...   \n",
       "5659                NO            NO            NO                NO   \n",
       "5660                NO            NO            NO                NO   \n",
       "5661                NO           YES            NO                NO   \n",
       "5662                NO           YES            NO                NO   \n",
       "5663                NO            NO           YES                NO   \n",
       "\n",
       "     Pitch class G Pitch class G#/Ab Pitch class A Pitch class A#/Bb  \\\n",
       "0              YES                NO            NO                NO   \n",
       "1              YES                NO            NO                NO   \n",
       "2               NO                NO           YES                NO   \n",
       "3               NO                NO           YES                NO   \n",
       "4               NO                NO           YES                NO   \n",
       "...            ...               ...           ...               ...   \n",
       "5659           YES                NO            NO               YES   \n",
       "5660           YES                NO           YES                NO   \n",
       "5661           YES                NO            NO                NO   \n",
       "5662           YES                NO            NO               YES   \n",
       "5663            NO                NO           YES                NO   \n",
       "\n",
       "     Pitch class B Bass  Meter Chord label  \n",
       "0               NO    E      5         C_M  \n",
       "1               NO    E      2         C_M  \n",
       "2               NO    F      3         F_M  \n",
       "3               NO    F      2         F_M  \n",
       "4               NO    D      4         D_m  \n",
       "...            ...  ...    ...         ...  \n",
       "5659            NO    G      4         G_m  \n",
       "5660            NO    G      3         G_m  \n",
       "5661            NO    C      5         C_M  \n",
       "5662            NO    C      3         C_M  \n",
       "5663            NO    F      4         F_M  \n",
       "\n",
       "[5664 rows x 17 columns]"
      ]
     },
     "execution_count": 283,
     "metadata": {},
     "output_type": "execute_result"
    }
   ],
   "source": [
    "df.columns = ['Choral ID','Event number','Pitch class C','Pitch class C#/Db',\n",
    "       'Pitch class D','Pitch class D#/Eb','Pitch class E','Pitch class F','Pitch class F#/Gb','Pitch class G',\n",
    "       'Pitch class G#/Ab','Pitch class A','Pitch class A#/Bb','Pitch class B','Bass','Meter','Chord label']\n",
    "df"
   ]
  },
  {
   "cell_type": "code",
   "execution_count": 284,
   "id": "a71b8cce",
   "metadata": {},
   "outputs": [
    {
     "data": {
      "text/plain": [
       "(5664, 17)"
      ]
     },
     "execution_count": 284,
     "metadata": {},
     "output_type": "execute_result"
    }
   ],
   "source": [
    "df.shape"
   ]
  },
  {
   "cell_type": "markdown",
   "id": "47bc3172",
   "metadata": {},
   "source": [
    "#### checking null values "
   ]
  },
  {
   "cell_type": "code",
   "execution_count": 285,
   "id": "903e4948",
   "metadata": {},
   "outputs": [
    {
     "data": {
      "text/plain": [
       "Choral ID            0\n",
       "Event number         0\n",
       "Pitch class C        0\n",
       "Pitch class C#/Db    0\n",
       "Pitch class D        0\n",
       "Pitch class D#/Eb    0\n",
       "Pitch class E        0\n",
       "Pitch class F        0\n",
       "Pitch class F#/Gb    0\n",
       "Pitch class G        0\n",
       "Pitch class G#/Ab    0\n",
       "Pitch class A        0\n",
       "Pitch class A#/Bb    0\n",
       "Pitch class B        0\n",
       "Bass                 0\n",
       "Meter                0\n",
       "Chord label          0\n",
       "dtype: int64"
      ]
     },
     "execution_count": 285,
     "metadata": {},
     "output_type": "execute_result"
    }
   ],
   "source": [
    "df.isnull().sum()"
   ]
  },
  {
   "cell_type": "code",
   "execution_count": 286,
   "id": "a0fffc85",
   "metadata": {},
   "outputs": [
    {
     "data": {
      "text/html": [
       "<div>\n",
       "<style scoped>\n",
       "    .dataframe tbody tr th:only-of-type {\n",
       "        vertical-align: middle;\n",
       "    }\n",
       "\n",
       "    .dataframe tbody tr th {\n",
       "        vertical-align: top;\n",
       "    }\n",
       "\n",
       "    .dataframe thead th {\n",
       "        text-align: right;\n",
       "    }\n",
       "</style>\n",
       "<table border=\"1\" class=\"dataframe\">\n",
       "  <thead>\n",
       "    <tr style=\"text-align: right;\">\n",
       "      <th></th>\n",
       "      <th>Choral ID</th>\n",
       "      <th>Event number</th>\n",
       "      <th>Pitch class C</th>\n",
       "      <th>Pitch class C#/Db</th>\n",
       "      <th>Pitch class D</th>\n",
       "      <th>Pitch class D#/Eb</th>\n",
       "      <th>Pitch class E</th>\n",
       "      <th>Pitch class F</th>\n",
       "      <th>Pitch class F#/Gb</th>\n",
       "      <th>Pitch class G</th>\n",
       "      <th>Pitch class G#/Ab</th>\n",
       "      <th>Pitch class A</th>\n",
       "      <th>Pitch class A#/Bb</th>\n",
       "      <th>Pitch class B</th>\n",
       "      <th>Bass</th>\n",
       "      <th>Meter</th>\n",
       "      <th>Chord label</th>\n",
       "    </tr>\n",
       "  </thead>\n",
       "  <tbody>\n",
       "    <tr>\n",
       "      <th>0</th>\n",
       "      <td>000106b_</td>\n",
       "      <td>2</td>\n",
       "      <td>YES</td>\n",
       "      <td>NO</td>\n",
       "      <td>NO</td>\n",
       "      <td>NO</td>\n",
       "      <td>YES</td>\n",
       "      <td>NO</td>\n",
       "      <td>NO</td>\n",
       "      <td>YES</td>\n",
       "      <td>NO</td>\n",
       "      <td>NO</td>\n",
       "      <td>NO</td>\n",
       "      <td>NO</td>\n",
       "      <td>E</td>\n",
       "      <td>5</td>\n",
       "      <td>C_M</td>\n",
       "    </tr>\n",
       "    <tr>\n",
       "      <th>1</th>\n",
       "      <td>000106b_</td>\n",
       "      <td>3</td>\n",
       "      <td>YES</td>\n",
       "      <td>NO</td>\n",
       "      <td>NO</td>\n",
       "      <td>NO</td>\n",
       "      <td>YES</td>\n",
       "      <td>NO</td>\n",
       "      <td>NO</td>\n",
       "      <td>YES</td>\n",
       "      <td>NO</td>\n",
       "      <td>NO</td>\n",
       "      <td>NO</td>\n",
       "      <td>NO</td>\n",
       "      <td>E</td>\n",
       "      <td>2</td>\n",
       "      <td>C_M</td>\n",
       "    </tr>\n",
       "    <tr>\n",
       "      <th>2</th>\n",
       "      <td>000106b_</td>\n",
       "      <td>4</td>\n",
       "      <td>YES</td>\n",
       "      <td>NO</td>\n",
       "      <td>NO</td>\n",
       "      <td>NO</td>\n",
       "      <td>NO</td>\n",
       "      <td>YES</td>\n",
       "      <td>NO</td>\n",
       "      <td>NO</td>\n",
       "      <td>NO</td>\n",
       "      <td>YES</td>\n",
       "      <td>NO</td>\n",
       "      <td>NO</td>\n",
       "      <td>F</td>\n",
       "      <td>3</td>\n",
       "      <td>F_M</td>\n",
       "    </tr>\n",
       "    <tr>\n",
       "      <th>3</th>\n",
       "      <td>000106b_</td>\n",
       "      <td>5</td>\n",
       "      <td>YES</td>\n",
       "      <td>NO</td>\n",
       "      <td>NO</td>\n",
       "      <td>NO</td>\n",
       "      <td>NO</td>\n",
       "      <td>YES</td>\n",
       "      <td>NO</td>\n",
       "      <td>NO</td>\n",
       "      <td>NO</td>\n",
       "      <td>YES</td>\n",
       "      <td>NO</td>\n",
       "      <td>NO</td>\n",
       "      <td>F</td>\n",
       "      <td>2</td>\n",
       "      <td>F_M</td>\n",
       "    </tr>\n",
       "    <tr>\n",
       "      <th>4</th>\n",
       "      <td>000106b_</td>\n",
       "      <td>6</td>\n",
       "      <td>NO</td>\n",
       "      <td>NO</td>\n",
       "      <td>YES</td>\n",
       "      <td>NO</td>\n",
       "      <td>NO</td>\n",
       "      <td>YES</td>\n",
       "      <td>NO</td>\n",
       "      <td>NO</td>\n",
       "      <td>NO</td>\n",
       "      <td>YES</td>\n",
       "      <td>NO</td>\n",
       "      <td>NO</td>\n",
       "      <td>D</td>\n",
       "      <td>4</td>\n",
       "      <td>D_m</td>\n",
       "    </tr>\n",
       "    <tr>\n",
       "      <th>5</th>\n",
       "      <td>000106b_</td>\n",
       "      <td>7</td>\n",
       "      <td>NO</td>\n",
       "      <td>NO</td>\n",
       "      <td>YES</td>\n",
       "      <td>NO</td>\n",
       "      <td>NO</td>\n",
       "      <td>YES</td>\n",
       "      <td>NO</td>\n",
       "      <td>NO</td>\n",
       "      <td>NO</td>\n",
       "      <td>YES</td>\n",
       "      <td>NO</td>\n",
       "      <td>NO</td>\n",
       "      <td>D</td>\n",
       "      <td>2</td>\n",
       "      <td>D_m</td>\n",
       "    </tr>\n",
       "    <tr>\n",
       "      <th>6</th>\n",
       "      <td>000106b_</td>\n",
       "      <td>8</td>\n",
       "      <td>YES</td>\n",
       "      <td>NO</td>\n",
       "      <td>NO</td>\n",
       "      <td>NO</td>\n",
       "      <td>NO</td>\n",
       "      <td>YES</td>\n",
       "      <td>NO</td>\n",
       "      <td>NO</td>\n",
       "      <td>NO</td>\n",
       "      <td>YES</td>\n",
       "      <td>NO</td>\n",
       "      <td>NO</td>\n",
       "      <td>A</td>\n",
       "      <td>3</td>\n",
       "      <td>F_M</td>\n",
       "    </tr>\n",
       "    <tr>\n",
       "      <th>7</th>\n",
       "      <td>000106b_</td>\n",
       "      <td>9</td>\n",
       "      <td>YES</td>\n",
       "      <td>NO</td>\n",
       "      <td>NO</td>\n",
       "      <td>NO</td>\n",
       "      <td>NO</td>\n",
       "      <td>YES</td>\n",
       "      <td>NO</td>\n",
       "      <td>NO</td>\n",
       "      <td>NO</td>\n",
       "      <td>YES</td>\n",
       "      <td>NO</td>\n",
       "      <td>NO</td>\n",
       "      <td>A</td>\n",
       "      <td>2</td>\n",
       "      <td>F_M</td>\n",
       "    </tr>\n",
       "    <tr>\n",
       "      <th>8</th>\n",
       "      <td>000106b_</td>\n",
       "      <td>10</td>\n",
       "      <td>NO</td>\n",
       "      <td>NO</td>\n",
       "      <td>YES</td>\n",
       "      <td>NO</td>\n",
       "      <td>NO</td>\n",
       "      <td>YES</td>\n",
       "      <td>NO</td>\n",
       "      <td>NO</td>\n",
       "      <td>NO</td>\n",
       "      <td>NO</td>\n",
       "      <td>YES</td>\n",
       "      <td>NO</td>\n",
       "      <td>Bb</td>\n",
       "      <td>5</td>\n",
       "      <td>BbM</td>\n",
       "    </tr>\n",
       "    <tr>\n",
       "      <th>9</th>\n",
       "      <td>000106b_</td>\n",
       "      <td>11</td>\n",
       "      <td>NO</td>\n",
       "      <td>NO</td>\n",
       "      <td>YES</td>\n",
       "      <td>NO</td>\n",
       "      <td>NO</td>\n",
       "      <td>YES</td>\n",
       "      <td>NO</td>\n",
       "      <td>NO</td>\n",
       "      <td>NO</td>\n",
       "      <td>NO</td>\n",
       "      <td>YES</td>\n",
       "      <td>NO</td>\n",
       "      <td>Bb</td>\n",
       "      <td>1</td>\n",
       "      <td>BbM</td>\n",
       "    </tr>\n",
       "  </tbody>\n",
       "</table>\n",
       "</div>"
      ],
      "text/plain": [
       "  Choral ID  Event number Pitch class C Pitch class C#/Db Pitch class D  \\\n",
       "0  000106b_             2           YES                NO            NO   \n",
       "1  000106b_             3           YES                NO            NO   \n",
       "2  000106b_             4           YES                NO            NO   \n",
       "3  000106b_             5           YES                NO            NO   \n",
       "4  000106b_             6            NO                NO           YES   \n",
       "5  000106b_             7            NO                NO           YES   \n",
       "6  000106b_             8           YES                NO            NO   \n",
       "7  000106b_             9           YES                NO            NO   \n",
       "8  000106b_            10            NO                NO           YES   \n",
       "9  000106b_            11            NO                NO           YES   \n",
       "\n",
       "  Pitch class D#/Eb Pitch class E Pitch class F Pitch class F#/Gb  \\\n",
       "0                NO           YES            NO                NO   \n",
       "1                NO           YES            NO                NO   \n",
       "2                NO            NO           YES                NO   \n",
       "3                NO            NO           YES                NO   \n",
       "4                NO            NO           YES                NO   \n",
       "5                NO            NO           YES                NO   \n",
       "6                NO            NO           YES                NO   \n",
       "7                NO            NO           YES                NO   \n",
       "8                NO            NO           YES                NO   \n",
       "9                NO            NO           YES                NO   \n",
       "\n",
       "  Pitch class G Pitch class G#/Ab Pitch class A Pitch class A#/Bb  \\\n",
       "0           YES                NO            NO                NO   \n",
       "1           YES                NO            NO                NO   \n",
       "2            NO                NO           YES                NO   \n",
       "3            NO                NO           YES                NO   \n",
       "4            NO                NO           YES                NO   \n",
       "5            NO                NO           YES                NO   \n",
       "6            NO                NO           YES                NO   \n",
       "7            NO                NO           YES                NO   \n",
       "8            NO                NO            NO               YES   \n",
       "9            NO                NO            NO               YES   \n",
       "\n",
       "  Pitch class B Bass  Meter Chord label  \n",
       "0            NO    E      5         C_M  \n",
       "1            NO    E      2         C_M  \n",
       "2            NO    F      3         F_M  \n",
       "3            NO    F      2         F_M  \n",
       "4            NO    D      4         D_m  \n",
       "5            NO    D      2         D_m  \n",
       "6            NO    A      3         F_M  \n",
       "7            NO    A      2         F_M  \n",
       "8            NO   Bb      5         BbM  \n",
       "9            NO   Bb      1         BbM  "
      ]
     },
     "execution_count": 286,
     "metadata": {},
     "output_type": "execute_result"
    }
   ],
   "source": [
    "df.head(10)"
   ]
  },
  {
   "cell_type": "markdown",
   "id": "2737ff48",
   "metadata": {},
   "source": [
    "### Seperate input and output"
   ]
  },
  {
   "cell_type": "code",
   "execution_count": 287,
   "id": "8f5365d0",
   "metadata": {},
   "outputs": [],
   "source": [
    "x = df.drop('Chord label', axis=1)\n",
    "y = df['Chord label']"
   ]
  },
  {
   "cell_type": "code",
   "execution_count": 288,
   "id": "74e64d9e",
   "metadata": {},
   "outputs": [
    {
     "data": {
      "text/plain": [
       "(5664, 16)"
      ]
     },
     "execution_count": 288,
     "metadata": {},
     "output_type": "execute_result"
    }
   ],
   "source": [
    "x.shape"
   ]
  },
  {
   "cell_type": "code",
   "execution_count": 289,
   "id": "f5d30428",
   "metadata": {},
   "outputs": [
    {
     "data": {
      "text/plain": [
       "(5664,)"
      ]
     },
     "execution_count": 289,
     "metadata": {},
     "output_type": "execute_result"
    }
   ],
   "source": [
    "y.shape"
   ]
  },
  {
   "cell_type": "markdown",
   "id": "c2e39e87",
   "metadata": {},
   "source": [
    "### Analysing the data by graphs"
   ]
  },
  {
   "cell_type": "code",
   "execution_count": 290,
   "id": "9ed52e81",
   "metadata": {},
   "outputs": [
    {
     "data": {
      "text/plain": [
       "<AxesSubplot:xlabel='Chord label', ylabel='count'>"
      ]
     },
     "execution_count": 290,
     "metadata": {},
     "output_type": "execute_result"
    },
    {
     "data": {
      "image/png": "[encoded data removed]",
      "text/plain": [
       "<Figure size 1800x1800 with 1 Axes>"
      ]
     },
     "metadata": {
      "needs_background": "light"
     },
     "output_type": "display_data"
    }
   ],
   "source": [
    "plt.figure(figsize=(25,25))\n",
    "sns.countplot(x = y)"
   ]
  },
  {
   "cell_type": "code",
   "execution_count": 291,
   "id": "b1d153f1",
   "metadata": {},
   "outputs": [
    {
     "data": {
      "text/plain": [
       "<AxesSubplot:xlabel='Meter', ylabel='count'>"
      ]
     },
     "execution_count": 291,
     "metadata": {},
     "output_type": "execute_result"
    },
    {
     "data": {
      "image/png": "[encoded data removed]",
      "text/plain": [
       "<Figure size 432x288 with 1 Axes>"
      ]
     },
     "metadata": {
      "needs_background": "light"
     },
     "output_type": "display_data"
    }
   ],
   "source": [
    "sns.countplot(x = df['Meter'])"
   ]
  },
  {
   "cell_type": "code",
   "execution_count": 292,
   "id": "9bf2f5b4",
   "metadata": {},
   "outputs": [
    {
     "data": {
      "text/plain": [
       "<AxesSubplot:xlabel='Bass', ylabel='count'>"
      ]
     },
     "execution_count": 292,
     "metadata": {},
     "output_type": "execute_result"
    },
    {
     "data": {
      "image/png": "[encoded data removed]",
      "text/plain": [
       "<Figure size 432x288 with 1 Axes>"
      ]
     },
     "metadata": {
      "needs_background": "light"
     },
     "output_type": "display_data"
    }
   ],
   "source": [
    "sns.countplot(x = df['Bass'])"
   ]
  },
  {
   "cell_type": "code",
   "execution_count": 293,
   "id": "6bb9ac6f",
   "metadata": {},
   "outputs": [
    {
     "data": {
      "text/plain": [
       " D_M     503\n",
       " G_M     489\n",
       " C_M     488\n",
       " F_M     388\n",
       " A_M     352\n",
       "        ... \n",
       " F_d7      1\n",
       " DbM7      1\n",
       " Ebd       1\n",
       " Abd       1\n",
       " F#d7      1\n",
       "Name: Chord label, Length: 102, dtype: int64"
      ]
     },
     "execution_count": 293,
     "metadata": {},
     "output_type": "execute_result"
    }
   ],
   "source": [
    "y.value_counts()"
   ]
  },
  {
   "cell_type": "markdown",
   "id": "91328cb3",
   "metadata": {},
   "source": [
    "###  Handling Categorical Variables:"
   ]
  },
  {
   "cell_type": "code",
   "execution_count": 294,
   "id": "c6e41d2e",
   "metadata": {},
   "outputs": [],
   "source": [
    "from sklearn.preprocessing import LabelEncoder\n",
    "le = LabelEncoder()"
   ]
  },
  {
   "cell_type": "code",
   "execution_count": 295,
   "id": "ca54894c",
   "metadata": {},
   "outputs": [],
   "source": [
    "\n",
    "x['Pitch class C'] = le.fit_transform(x['Pitch class C'])\n",
    "x['Pitch class C#/Db'] =le.fit_transform(x['Pitch class C#/Db'])\n",
    "x['Pitch class D'] = le.fit_transform(x['Pitch class D'])\n",
    "x['Pitch class D#/Eb'] = le.fit_transform(x['Pitch class D#/Eb'])\n",
    "x['Pitch class E'] = le.fit_transform(x['Pitch class E'])\n",
    "x['Pitch class F'] = le.fit_transform(x['Pitch class F'])\n",
    "x['Pitch class F#/Gb'] = le.fit_transform(x['Pitch class F#/Gb'])\n",
    "x['Pitch class G'] = le.fit_transform(x['Pitch class G'])\n",
    "x['Pitch class G#/Ab'] = le.fit_transform(x['Pitch class G#/Ab'])\n",
    "x['Pitch class A'] = le.fit_transform(x['Pitch class A'])\n",
    "x['Pitch class A#/Bb'] = le.fit_transform(x['Pitch class A#/Bb'])\n",
    "x['Pitch class B'] = le.fit_transform(x['Pitch class B'])\n"
   ]
  },
  {
   "cell_type": "code",
   "execution_count": 296,
   "id": "c484b709",
   "metadata": {},
   "outputs": [],
   "source": [
    "# Convert Choral ID to numerical identifiers\n",
    "x['Choral ID'] = pd.factorize(x['Choral ID'])[0] + 1  # Adding 1 to start from 1 instead of 0\n"
   ]
  },
  {
   "cell_type": "code",
   "execution_count": 297,
   "id": "038e6e20",
   "metadata": {},
   "outputs": [
    {
     "data": {
      "text/html": [
       "<div>\n",
       "<style scoped>\n",
       "    .dataframe tbody tr th:only-of-type {\n",
       "        vertical-align: middle;\n",
       "    }\n",
       "\n",
       "    .dataframe tbody tr th {\n",
       "        vertical-align: top;\n",
       "    }\n",
       "\n",
       "    .dataframe thead th {\n",
       "        text-align: right;\n",
       "    }\n",
       "</style>\n",
       "<table border=\"1\" class=\"dataframe\">\n",
       "  <thead>\n",
       "    <tr style=\"text-align: right;\">\n",
       "      <th></th>\n",
       "      <th>Choral ID</th>\n",
       "      <th>Event number</th>\n",
       "      <th>Pitch class C</th>\n",
       "      <th>Pitch class C#/Db</th>\n",
       "      <th>Pitch class D</th>\n",
       "      <th>Pitch class D#/Eb</th>\n",
       "      <th>Pitch class E</th>\n",
       "      <th>Pitch class F</th>\n",
       "      <th>Pitch class F#/Gb</th>\n",
       "      <th>Pitch class G</th>\n",
       "      <th>Pitch class G#/Ab</th>\n",
       "      <th>Pitch class A</th>\n",
       "      <th>Pitch class A#/Bb</th>\n",
       "      <th>Pitch class B</th>\n",
       "      <th>Bass</th>\n",
       "      <th>Meter</th>\n",
       "    </tr>\n",
       "  </thead>\n",
       "  <tbody>\n",
       "    <tr>\n",
       "      <th>0</th>\n",
       "      <td>1</td>\n",
       "      <td>2</td>\n",
       "      <td>1</td>\n",
       "      <td>0</td>\n",
       "      <td>0</td>\n",
       "      <td>0</td>\n",
       "      <td>1</td>\n",
       "      <td>0</td>\n",
       "      <td>0</td>\n",
       "      <td>1</td>\n",
       "      <td>0</td>\n",
       "      <td>0</td>\n",
       "      <td>0</td>\n",
       "      <td>0</td>\n",
       "      <td>E</td>\n",
       "      <td>5</td>\n",
       "    </tr>\n",
       "    <tr>\n",
       "      <th>1</th>\n",
       "      <td>1</td>\n",
       "      <td>3</td>\n",
       "      <td>1</td>\n",
       "      <td>0</td>\n",
       "      <td>0</td>\n",
       "      <td>0</td>\n",
       "      <td>1</td>\n",
       "      <td>0</td>\n",
       "      <td>0</td>\n",
       "      <td>1</td>\n",
       "      <td>0</td>\n",
       "      <td>0</td>\n",
       "      <td>0</td>\n",
       "      <td>0</td>\n",
       "      <td>E</td>\n",
       "      <td>2</td>\n",
       "    </tr>\n",
       "    <tr>\n",
       "      <th>2</th>\n",
       "      <td>1</td>\n",
       "      <td>4</td>\n",
       "      <td>1</td>\n",
       "      <td>0</td>\n",
       "      <td>0</td>\n",
       "      <td>0</td>\n",
       "      <td>0</td>\n",
       "      <td>1</td>\n",
       "      <td>0</td>\n",
       "      <td>0</td>\n",
       "      <td>0</td>\n",
       "      <td>1</td>\n",
       "      <td>0</td>\n",
       "      <td>0</td>\n",
       "      <td>F</td>\n",
       "      <td>3</td>\n",
       "    </tr>\n",
       "    <tr>\n",
       "      <th>3</th>\n",
       "      <td>1</td>\n",
       "      <td>5</td>\n",
       "      <td>1</td>\n",
       "      <td>0</td>\n",
       "      <td>0</td>\n",
       "      <td>0</td>\n",
       "      <td>0</td>\n",
       "      <td>1</td>\n",
       "      <td>0</td>\n",
       "      <td>0</td>\n",
       "      <td>0</td>\n",
       "      <td>1</td>\n",
       "      <td>0</td>\n",
       "      <td>0</td>\n",
       "      <td>F</td>\n",
       "      <td>2</td>\n",
       "    </tr>\n",
       "    <tr>\n",
       "      <th>4</th>\n",
       "      <td>1</td>\n",
       "      <td>6</td>\n",
       "      <td>0</td>\n",
       "      <td>0</td>\n",
       "      <td>1</td>\n",
       "      <td>0</td>\n",
       "      <td>0</td>\n",
       "      <td>1</td>\n",
       "      <td>0</td>\n",
       "      <td>0</td>\n",
       "      <td>0</td>\n",
       "      <td>1</td>\n",
       "      <td>0</td>\n",
       "      <td>0</td>\n",
       "      <td>D</td>\n",
       "      <td>4</td>\n",
       "    </tr>\n",
       "    <tr>\n",
       "      <th>...</th>\n",
       "      <td>...</td>\n",
       "      <td>...</td>\n",
       "      <td>...</td>\n",
       "      <td>...</td>\n",
       "      <td>...</td>\n",
       "      <td>...</td>\n",
       "      <td>...</td>\n",
       "      <td>...</td>\n",
       "      <td>...</td>\n",
       "      <td>...</td>\n",
       "      <td>...</td>\n",
       "      <td>...</td>\n",
       "      <td>...</td>\n",
       "      <td>...</td>\n",
       "      <td>...</td>\n",
       "      <td>...</td>\n",
       "    </tr>\n",
       "    <tr>\n",
       "      <th>195</th>\n",
       "      <td>2</td>\n",
       "      <td>35</td>\n",
       "      <td>1</td>\n",
       "      <td>0</td>\n",
       "      <td>1</td>\n",
       "      <td>0</td>\n",
       "      <td>0</td>\n",
       "      <td>0</td>\n",
       "      <td>1</td>\n",
       "      <td>0</td>\n",
       "      <td>0</td>\n",
       "      <td>1</td>\n",
       "      <td>0</td>\n",
       "      <td>0</td>\n",
       "      <td>D</td>\n",
       "      <td>2</td>\n",
       "    </tr>\n",
       "    <tr>\n",
       "      <th>196</th>\n",
       "      <td>2</td>\n",
       "      <td>36</td>\n",
       "      <td>0</td>\n",
       "      <td>1</td>\n",
       "      <td>0</td>\n",
       "      <td>0</td>\n",
       "      <td>1</td>\n",
       "      <td>0</td>\n",
       "      <td>0</td>\n",
       "      <td>1</td>\n",
       "      <td>0</td>\n",
       "      <td>0</td>\n",
       "      <td>1</td>\n",
       "      <td>0</td>\n",
       "      <td>E</td>\n",
       "      <td>4</td>\n",
       "    </tr>\n",
       "    <tr>\n",
       "      <th>197</th>\n",
       "      <td>2</td>\n",
       "      <td>37</td>\n",
       "      <td>1</td>\n",
       "      <td>0</td>\n",
       "      <td>1</td>\n",
       "      <td>0</td>\n",
       "      <td>0</td>\n",
       "      <td>0</td>\n",
       "      <td>1</td>\n",
       "      <td>0</td>\n",
       "      <td>0</td>\n",
       "      <td>1</td>\n",
       "      <td>0</td>\n",
       "      <td>0</td>\n",
       "      <td>F#</td>\n",
       "      <td>3</td>\n",
       "    </tr>\n",
       "    <tr>\n",
       "      <th>198</th>\n",
       "      <td>2</td>\n",
       "      <td>38</td>\n",
       "      <td>0</td>\n",
       "      <td>0</td>\n",
       "      <td>1</td>\n",
       "      <td>0</td>\n",
       "      <td>0</td>\n",
       "      <td>0</td>\n",
       "      <td>0</td>\n",
       "      <td>1</td>\n",
       "      <td>0</td>\n",
       "      <td>0</td>\n",
       "      <td>1</td>\n",
       "      <td>0</td>\n",
       "      <td>G</td>\n",
       "      <td>5</td>\n",
       "    </tr>\n",
       "    <tr>\n",
       "      <th>199</th>\n",
       "      <td>2</td>\n",
       "      <td>39</td>\n",
       "      <td>0</td>\n",
       "      <td>0</td>\n",
       "      <td>1</td>\n",
       "      <td>0</td>\n",
       "      <td>0</td>\n",
       "      <td>0</td>\n",
       "      <td>1</td>\n",
       "      <td>0</td>\n",
       "      <td>0</td>\n",
       "      <td>1</td>\n",
       "      <td>0</td>\n",
       "      <td>0</td>\n",
       "      <td>D</td>\n",
       "      <td>3</td>\n",
       "    </tr>\n",
       "  </tbody>\n",
       "</table>\n",
       "<p>200 rows × 16 columns</p>\n",
       "</div>"
      ],
      "text/plain": [
       "     Choral ID  Event number  Pitch class C  Pitch class C#/Db  Pitch class D  \\\n",
       "0            1             2              1                  0              0   \n",
       "1            1             3              1                  0              0   \n",
       "2            1             4              1                  0              0   \n",
       "3            1             5              1                  0              0   \n",
       "4            1             6              0                  0              1   \n",
       "..         ...           ...            ...                ...            ...   \n",
       "195          2            35              1                  0              1   \n",
       "196          2            36              0                  1              0   \n",
       "197          2            37              1                  0              1   \n",
       "198          2            38              0                  0              1   \n",
       "199          2            39              0                  0              1   \n",
       "\n",
       "     Pitch class D#/Eb  Pitch class E  Pitch class F  Pitch class F#/Gb  \\\n",
       "0                    0              1              0                  0   \n",
       "1                    0              1              0                  0   \n",
       "2                    0              0              1                  0   \n",
       "3                    0              0              1                  0   \n",
       "4                    0              0              1                  0   \n",
       "..                 ...            ...            ...                ...   \n",
       "195                  0              0              0                  1   \n",
       "196                  0              1              0                  0   \n",
       "197                  0              0              0                  1   \n",
       "198                  0              0              0                  0   \n",
       "199                  0              0              0                  1   \n",
       "\n",
       "     Pitch class G  Pitch class G#/Ab  Pitch class A  Pitch class A#/Bb  \\\n",
       "0                1                  0              0                  0   \n",
       "1                1                  0              0                  0   \n",
       "2                0                  0              1                  0   \n",
       "3                0                  0              1                  0   \n",
       "4                0                  0              1                  0   \n",
       "..             ...                ...            ...                ...   \n",
       "195              0                  0              1                  0   \n",
       "196              1                  0              0                  1   \n",
       "197              0                  0              1                  0   \n",
       "198              1                  0              0                  1   \n",
       "199              0                  0              1                  0   \n",
       "\n",
       "     Pitch class B Bass  Meter  \n",
       "0                0    E      5  \n",
       "1                0    E      2  \n",
       "2                0    F      3  \n",
       "3                0    F      2  \n",
       "4                0    D      4  \n",
       "..             ...  ...    ...  \n",
       "195              0    D      2  \n",
       "196              0    E      4  \n",
       "197              0   F#      3  \n",
       "198              0    G      5  \n",
       "199              0    D      3  \n",
       "\n",
       "[200 rows x 16 columns]"
      ]
     },
     "execution_count": 297,
     "metadata": {},
     "output_type": "execute_result"
    }
   ],
   "source": [
    "x.head(200)"
   ]
  },
  {
   "cell_type": "code",
   "execution_count": 298,
   "id": "1025f17b",
   "metadata": {},
   "outputs": [
    {
     "data": {
      "text/plain": [
       "0     C_M\n",
       "1     C_M\n",
       "2     F_M\n",
       "3     F_M\n",
       "4     D_m\n",
       "Name: Chord label, dtype: object"
      ]
     },
     "execution_count": 298,
     "metadata": {},
     "output_type": "execute_result"
    }
   ],
   "source": [
    "y.head()"
   ]
  },
  {
   "cell_type": "code",
   "execution_count": 299,
   "id": "5f439d83",
   "metadata": {},
   "outputs": [],
   "source": [
    "x_encoded = pd.get_dummies(x, columns=['Bass'], drop_first=True)\n"
   ]
  },
  {
   "cell_type": "code",
   "execution_count": 300,
   "id": "922a54f4",
   "metadata": {},
   "outputs": [],
   "source": [
    "# # One-hot encode \"Bass\" column\n",
    "# bass_encoder = OneHotEncoder(sparse=False)\n",
    "# bass_encoded = bass_encoder.fit_transform(df[['Bass']])\n",
    "# bass_encoded_df = pd.DataFrame(bass_encoded, columns=bass_encoder.get_feature_names(['Bass']))\n",
    "\n",
    "\n",
    "# # Concatenate the original DataFrame with the encoded columns\n",
    "# x_encoded = pd.concat([x, bass_encoded_df], axis=1)\n",
    "\n",
    "# # Drop the original \"Bass\" and \"Chord label\" columns from the DataFrame\n",
    "# x_encoded.drop(['Bass'], axis=1, inplace=True)\n",
    "\n",
    "# # Print the first few rows to verify the encoding\n",
    "# print(x_encoded.head())"
   ]
  },
  {
   "cell_type": "markdown",
   "id": "2952e01e",
   "metadata": {},
   "source": [
    "#### OUtlier Detection and removal"
   ]
  },
  {
   "cell_type": "code",
   "execution_count": 301,
   "id": "388fac68",
   "metadata": {},
   "outputs": [
    {
     "data": {
      "text/plain": [
       "(5664, 30)"
      ]
     },
     "execution_count": 301,
     "metadata": {},
     "output_type": "execute_result"
    }
   ],
   "source": [
    "x_encoded.shape"
   ]
  },
  {
   "cell_type": "code",
   "execution_count": 302,
   "id": "2cf2a9d2",
   "metadata": {},
   "outputs": [],
   "source": [
    "from sklearn.ensemble import IsolationForest\n",
    "iso = IsolationForest(contamination=0.05, random_state=0)"
   ]
  },
  {
   "cell_type": "code",
   "execution_count": 303,
   "id": "15c50e35",
   "metadata": {},
   "outputs": [],
   "source": [
    "clean = iso.fit_predict(x_encoded,y)"
   ]
  },
  {
   "cell_type": "code",
   "execution_count": 304,
   "id": "81d5f2f2",
   "metadata": {},
   "outputs": [],
   "source": [
    "x_clean = x_encoded[clean==1]\n",
    "y_clean = y[clean==1]"
   ]
  },
  {
   "cell_type": "code",
   "execution_count": 305,
   "id": "1ddff907",
   "metadata": {},
   "outputs": [
    {
     "data": {
      "text/plain": [
       "(5380, 30)"
      ]
     },
     "execution_count": 305,
     "metadata": {},
     "output_type": "execute_result"
    }
   ],
   "source": [
    "x_clean.shape"
   ]
  },
  {
   "cell_type": "code",
   "execution_count": 306,
   "id": "e96ff34c",
   "metadata": {},
   "outputs": [
    {
     "data": {
      "text/plain": [
       "(5380,)"
      ]
     },
     "execution_count": 306,
     "metadata": {},
     "output_type": "execute_result"
    }
   ],
   "source": [
    "y_clean.shape"
   ]
  },
  {
   "cell_type": "code",
   "execution_count": 307,
   "id": "9ced3f0c",
   "metadata": {},
   "outputs": [
    {
     "data": {
      "text/plain": [
       "Index(['Choral ID', 'Event number', 'Pitch class C', 'Pitch class C#/Db',\n",
       "       'Pitch class D', 'Pitch class D#/Eb', 'Pitch class E', 'Pitch class F',\n",
       "       'Pitch class F#/Gb', 'Pitch class G', 'Pitch class G#/Ab',\n",
       "       'Pitch class A', 'Pitch class A#/Bb', 'Pitch class B', 'Meter',\n",
       "       'Bass_A#', 'Bass_Ab', 'Bass_B', 'Bass_Bb', 'Bass_C', 'Bass_C#',\n",
       "       'Bass_D', 'Bass_D#', 'Bass_Db', 'Bass_E', 'Bass_Eb', 'Bass_F',\n",
       "       'Bass_F#', 'Bass_G', 'Bass_G#'],\n",
       "      dtype='object')"
      ]
     },
     "execution_count": 307,
     "metadata": {},
     "output_type": "execute_result"
    }
   ],
   "source": [
    "x_clean.columns"
   ]
  },
  {
   "cell_type": "markdown",
   "id": "62a59508",
   "metadata": {},
   "source": [
    "### cross validation"
   ]
  },
  {
   "cell_type": "code",
   "execution_count": 308,
   "id": "13287192",
   "metadata": {},
   "outputs": [],
   "source": [
    "from sklearn.model_selection import train_test_split\n",
    "x_train, x_test, y_train, y_test = train_test_split(x_clean, y_clean, random_state=0)"
   ]
  },
  {
   "cell_type": "code",
   "execution_count": 309,
   "id": "2fed8562",
   "metadata": {},
   "outputs": [
    {
     "data": {
      "text/plain": [
       "(4035, 30)"
      ]
     },
     "execution_count": 309,
     "metadata": {},
     "output_type": "execute_result"
    }
   ],
   "source": [
    "x_train.shape"
   ]
  },
  {
   "cell_type": "code",
   "execution_count": 310,
   "id": "22f10bc7",
   "metadata": {},
   "outputs": [
    {
     "data": {
      "text/plain": [
       "(1345, 30)"
      ]
     },
     "execution_count": 310,
     "metadata": {},
     "output_type": "execute_result"
    }
   ],
   "source": [
    "x_test.shape"
   ]
  },
  {
   "cell_type": "markdown",
   "id": "94efcf1c",
   "metadata": {},
   "source": [
    "## Build the model  Decision tree"
   ]
  },
  {
   "cell_type": "code",
   "execution_count": 311,
   "id": "b8119cb3",
   "metadata": {},
   "outputs": [
    {
     "data": {
      "text/plain": [
       "DecisionTreeClassifier(random_state=0)"
      ]
     },
     "execution_count": 311,
     "metadata": {},
     "output_type": "execute_result"
    }
   ],
   "source": [
    "from sklearn.tree import DecisionTreeClassifier\n",
    "clf = DecisionTreeClassifier(random_state=0)\n",
    "clf.fit(x_train, y_train)"
   ]
  },
  {
   "cell_type": "markdown",
   "id": "93617027",
   "metadata": {},
   "source": [
    "## Performance analysis"
   ]
  },
  {
   "cell_type": "code",
   "execution_count": 312,
   "id": "3f3f08d9",
   "metadata": {},
   "outputs": [],
   "source": [
    "from sklearn.metrics import accuracy_score, classification_report\n",
    "from sklearn.metrics import ConfusionMatrixDisplay"
   ]
  },
  {
   "cell_type": "code",
   "execution_count": 313,
   "id": "40be62f9",
   "metadata": {},
   "outputs": [],
   "source": [
    "y_pred = clf.predict(x_test)"
   ]
  },
  {
   "cell_type": "code",
   "execution_count": 314,
   "id": "dade2aa6",
   "metadata": {},
   "outputs": [
    {
     "data": {
      "text/plain": [
       "0.7234200743494423"
      ]
     },
     "execution_count": 314,
     "metadata": {},
     "output_type": "execute_result"
    }
   ],
   "source": [
    "accuracy_score(y_pred, y_test)"
   ]
  },
  {
   "cell_type": "markdown",
   "id": "608f7369",
   "metadata": {},
   "source": [
    "## Build Random forest"
   ]
  },
  {
   "cell_type": "code",
   "execution_count": 315,
   "id": "178b5f43",
   "metadata": {},
   "outputs": [],
   "source": [
    "from sklearn.ensemble import RandomForestClassifier"
   ]
  },
  {
   "cell_type": "code",
   "execution_count": 316,
   "id": "e41f6ea1",
   "metadata": {},
   "outputs": [
    {
     "data": {
      "text/plain": [
       "RandomForestClassifier(random_state=42)"
      ]
     },
     "execution_count": 316,
     "metadata": {},
     "output_type": "execute_result"
    }
   ],
   "source": [
    "rf_classifier = RandomForestClassifier(n_estimators=100, random_state=42)\n",
    "\n",
    "rf_classifier.fit(x_train, y_train)"
   ]
  },
  {
   "cell_type": "code",
   "execution_count": 317,
   "id": "f8f81b29",
   "metadata": {},
   "outputs": [],
   "source": [
    "y_pred = rf_classifier.predict(x_test)"
   ]
  },
  {
   "cell_type": "code",
   "execution_count": 318,
   "id": "1e4a4179",
   "metadata": {},
   "outputs": [
    {
     "name": "stdout",
     "output_type": "stream",
     "text": [
      "Accuracy: 0.7702602230483271\n"
     ]
    }
   ],
   "source": [
    "from sklearn.metrics import accuracy_score\n",
    "\n",
    "# Evaluate the model's performance\n",
    "accuracy = accuracy_score(y_test, y_pred)\n",
    "print(\"Accuracy:\", accuracy)"
   ]
  },
  {
   "cell_type": "markdown",
   "id": "7cd8c22d",
   "metadata": {},
   "source": [
    "\n",
    "## Build Support Vector Machines (SVM)"
   ]
  },
  {
   "cell_type": "code",
   "execution_count": 319,
   "id": "e28dedbb",
   "metadata": {},
   "outputs": [
    {
     "data": {
      "text/plain": [
       "SVC(random_state=42)"
      ]
     },
     "execution_count": 319,
     "metadata": {},
     "output_type": "execute_result"
    }
   ],
   "source": [
    "from sklearn.svm import SVC\n",
    "\n",
    "svm_classifier = SVC(kernel='rbf', random_state=42)\n",
    "svm_classifier.fit(x_train, y_train)\n"
   ]
  },
  {
   "cell_type": "code",
   "execution_count": 320,
   "id": "ead0314d",
   "metadata": {},
   "outputs": [
    {
     "data": {
      "text/plain": [
       "SVC(random_state=42)"
      ]
     },
     "execution_count": 320,
     "metadata": {},
     "output_type": "execute_result"
    }
   ],
   "source": [
    "svm_classifier.fit(x_train, y_train)\n"
   ]
  },
  {
   "cell_type": "code",
   "execution_count": 321,
   "id": "7478be16",
   "metadata": {},
   "outputs": [
    {
     "name": "stdout",
     "output_type": "stream",
     "text": [
      "Accuracy: 0.7702602230483271\n"
     ]
    }
   ],
   "source": [
    "from sklearn.metrics import accuracy_score\n",
    "\n",
    "# Evaluate the model's performance\n",
    "accuracy = accuracy_score(y_test, y_pred)\n",
    "print(\"Accuracy:\", accuracy)"
   ]
  },
  {
   "cell_type": "markdown",
   "id": "5b3670cd",
   "metadata": {},
   "source": [
    "## k-Nearest Neighbors (k-NN)"
   ]
  },
  {
   "cell_type": "code",
   "execution_count": 322,
   "id": "371c8225",
   "metadata": {},
   "outputs": [
    {
     "data": {
      "text/plain": [
       "KNeighborsClassifier(n_neighbors=1)"
      ]
     },
     "execution_count": 322,
     "metadata": {},
     "output_type": "execute_result"
    }
   ],
   "source": [
    "from sklearn.neighbors import KNeighborsClassifier\n",
    "\n",
    "knn_classifier = KNeighborsClassifier(n_neighbors=1)\n",
    "knn_classifier.fit(x_train, y_train)\n"
   ]
  },
  {
   "cell_type": "code",
   "execution_count": 323,
   "id": "dc831c7d",
   "metadata": {},
   "outputs": [],
   "source": [
    "y_pred = knn_classifier.predict(x_test)\n"
   ]
  },
  {
   "cell_type": "code",
   "execution_count": 324,
   "id": "84b6deb2",
   "metadata": {},
   "outputs": [
    {
     "name": "stdout",
     "output_type": "stream",
     "text": [
      "Accuracy: 0.4899628252788104\n"
     ]
    }
   ],
   "source": [
    "accuracy = accuracy_score(y_test, y_pred)\n",
    "print(\"Accuracy:\", accuracy)"
   ]
  },
  {
   "cell_type": "code",
   "execution_count": 325,
   "id": "eea85c87",
   "metadata": {},
   "outputs": [
    {
     "name": "stdout",
     "output_type": "stream",
     "text": [
      "Accuracy: 0.2892193308550186\n"
     ]
    }
   ],
   "source": [
    "from sklearn.neighbors import KNeighborsClassifier\n",
    "\n",
    "knn_classifier = KNeighborsClassifier(n_neighbors=4)\n",
    "knn_classifier.fit(x_train, y_train)\n",
    "\n",
    "y_pred = knn_classifier.predict(x_test)\n",
    "\n",
    "accuracy = accuracy_score(y_test, y_pred)\n",
    "print(\"Accuracy:\", accuracy)"
   ]
  },
  {
   "cell_type": "markdown",
   "id": "9212d3c1",
   "metadata": {},
   "source": [
    "## Neural Network( Multi layer perceptron)"
   ]
  },
  {
   "cell_type": "code",
   "execution_count": 326,
   "id": "1ea92823",
   "metadata": {},
   "outputs": [
    {
     "name": "stdout",
     "output_type": "stream",
     "text": [
      "Accuracy: 0.7338289962825278\n"
     ]
    },
    {
     "name": "stderr",
     "output_type": "stream",
     "text": [
      "C:\\Users\\Acer\\anaconda3\\lib\\site-packages\\sklearn\\neural_network\\_multilayer_perceptron.py:614: ConvergenceWarning: Stochastic Optimizer: Maximum iterations (200) reached and the optimization hasn't converged yet.\n",
      "  warnings.warn(\n"
     ]
    }
   ],
   "source": [
    "from sklearn.neural_network import MLPClassifier\n",
    "\n",
    "mlp_classifier = MLPClassifier(hidden_layer_sizes=(100,), activation='relu', solver='adam', random_state=42)\n",
    "mlp_classifier.fit(x_train, y_train)\n",
    "\n",
    "y_pred = mlp_classifier.predict(x_test)\n",
    "\n",
    "accuracy = accuracy_score(y_test, y_pred)\n",
    "print(\"Accuracy:\", accuracy)"
   ]
  },
  {
   "cell_type": "markdown",
   "id": "66d857f1",
   "metadata": {},
   "source": [
    "## Logistic Regression"
   ]
  },
  {
   "cell_type": "code",
   "execution_count": 327,
   "id": "4f737b94",
   "metadata": {},
   "outputs": [
    {
     "name": "stdout",
     "output_type": "stream",
     "text": [
      "Accuracy: 0.6014869888475837\n"
     ]
    },
    {
     "name": "stderr",
     "output_type": "stream",
     "text": [
      "C:\\Users\\Acer\\anaconda3\\lib\\site-packages\\sklearn\\linear_model\\_logistic.py:763: ConvergenceWarning: lbfgs failed to converge (status=1):\n",
      "STOP: TOTAL NO. of ITERATIONS REACHED LIMIT.\n",
      "\n",
      "Increase the number of iterations (max_iter) or scale the data as shown in:\n",
      "    https://scikit-learn.org/stable/modules/preprocessing.html\n",
      "Please also refer to the documentation for alternative solver options:\n",
      "    https://scikit-learn.org/stable/modules/linear_model.html#logistic-regression\n",
      "  n_iter_i = _check_optimize_result(\n"
     ]
    }
   ],
   "source": [
    "from sklearn.linear_model import LogisticRegression\n",
    "from sklearn.model_selection import train_test_split\n",
    "from sklearn.metrics import accuracy_score\n",
    "\n",
    "logreg_classifier = LogisticRegression(random_state=42)\n",
    "logreg_classifier.fit(x_train, y_train)\n",
    "\n",
    "y_pred = logreg_classifier.predict(x_test)\n",
    "accuracy = accuracy_score(y_test, y_pred)\n",
    "print(\"Accuracy:\", accuracy)"
   ]
  },
  {
   "cell_type": "code",
   "execution_count": null,
   "id": "406971d3",
   "metadata": {},
   "outputs": [],
   "source": [
    "\n"
   ]
  },
  {
   "cell_type": "code",
   "execution_count": null,
   "id": "7570942c",
   "metadata": {},
   "outputs": [],
   "source": []
  },
  {
   "cell_type": "markdown",
   "id": "bb150d5d",
   "metadata": {},
   "source": [
    "# BACH CORAL HARMONY PREDICTION"
   ]
  },
  {
   "cell_type": "raw",
   "id": "475c9e45",
   "metadata": {},
   "source": [
    "Abstract:\n",
    "\n",
    "This research paper presents a comprehensive comparative analysis of two prominent machine learning algorithms, Random Forest and Support Vector Classification (SVC), applied to the task of predicting chorale harmony. Chorale harmony prediction involves associating a chord label with each time point in a musical flow, revealing the underlying harmony and aiding in musical analysis. The study investigates the performance of Random Forest and SVC algorithms on a dataset comprising 60 chorales by J.S. Bach, each labeled with one of 101 chord labels. Evaluation metrics such as accuracy, precision, recall, and F1-score are employed to assess the predictive capabilities of the algorithms. Experimental results indicate that both Random Forest and SVC demonstrate promising performance, with Random Forest exhibiting slightly higher accuracy on average. However, SVC shows competitive performance in terms of precision and recall. Furthermore, the paper discusses the implications of these findings for applications in music information retrieval and computational musicology, highlighting the strengths and limitations of each algorithm in the context of chorale harmony prediction.\n",
    "\n",
    "\n",
    "Introduction:\n",
    "\n",
    "Chorale harmonization is a fundamental aspect of Western classical music, particularly in the context of Baroque music. J.S. Bach's chorales, in particular, serve as canonical examples of harmonically rich compositions. The task of chorale harmony prediction involves assigning chord labels to individual events within a chorale, providing valuable insights into the harmonic structure and aiding in musical analysis. With the advent of machine learning techniques, automated methods for chorale harmony prediction have gained traction, offering efficient and scalable solutions for music analysis tasks.\n",
    "\n",
    "Dataset Description:\n",
    "\n",
    "The dataset used in this study comprises 60 chorales by J.S. Bach, spanning a range of musical styles and harmonic progressions. Each chorale consists of a sequence of events, with each event labeled with one of 101 chord labels representing the underlying harmony. The dataset includes information such as pitch classes, bass notes, meter, and chord labels for each event, extracted from MIDI sources and manually annotated by experts.\n",
    "\n",
    "Methodology:\n",
    "\n",
    "The comparative analysis focuses on two machine learning algorithms: Random Forest and Support Vector Classification (SVC). Random Forest is an ensemble learning method that constructs multiple decision trees during training and outputs the mode of the classes (classification) or the mean prediction (regression) of the individual trees. SVC, on the other hand, is a discriminative classifier that separates classes by finding the hyperplane that maximizes the margin between them in the feature space.\n",
    "\n",
    "Experimental Setup:\n",
    "\n",
    "The experiments are conducted using a cross-validated approach, where the dataset is divided into training and testing sets multiple times to ensure robust evaluation. Evaluation metrics such as accuracy, precision, recall, and F1-score are computed for each algorithm to assess its predictive performance. Hyperparameters for each algorithm, such as the number of trees in Random Forest and the choice of kernel in SVC, are tuned using grid search to optimize performance.\n",
    "\n",
    "Results and Discussion:\n",
    "\n",
    "The experimental results demonstrate the effectiveness of both Random Forest and SVC algorithms in predicting chorale harmony. Random Forest achieves slightly higher accuracy on average compared to SVC, indicating its robustness in handling complex feature interactions and noisy data. However, SVC exhibits competitive performance in terms of precision and recall, suggesting its efficacy in capturing subtle patterns in the dataset. The discussion highlights the trade-offs between the two algorithms in terms of computational complexity, interpretability, and generalization performance.\n",
    "\n",
    "Conclusion:\n",
    "\n",
    "In conclusion, this research paper presents a comparative analysis of Random Forest and Support Vector Classification algorithms for chorale harmony prediction. While Random Forest demonstrates superior accuracy, SVC offers competitive performance in terms of precision and recall. The findings contribute to the understanding of machine learning approaches for music analysis tasks and provide insights into the strengths and limitations of each algorithm. Future research directions may explore ensemble methods combining Random Forest and SVC for improved predictive performance.\n",
    "\n",
    "References:\n",
    "\n",
    "Breiman, L. (2001). Random forests. Machine learning, 45(1), 5-32.\n",
    "Cortes, C., & Vapnik, V. (1995). Support-vector networks. Machine learning, 20(3), 273-297.\n",
    "\n"
   ]
  }
 ],
 "metadata": {
  "kernelspec": {
   "display_name": "Python 3 (ipykernel)",
   "language": "python",
   "name": "python3"
  },
  "language_info": {
   "codemirror_mode": {
    "name": "ipython",
    "version": 3
   },
   "file_extension": ".py",
   "mimetype": "text/x-python",
   "name": "python",
   "nbconvert_exporter": "python",
   "pygments_lexer": "ipython3",
   "version": "3.9.7"
  }
 },
 "nbformat": 4,
 "nbformat_minor": 5
}
